{
 "cells": [
  {
   "cell_type": "code",
   "execution_count": 120,
   "metadata": {
    "collapsed": true,
    "jupyter": {
     "outputs_hidden": true
    }
   },
   "outputs": [],
   "source": [
    "import pandas as pd\n",
    "import matplotlib.pyplot as plt\n",
    "import numpy as np\n",
    "import os\n",
    "import re\n",
    "import pickle5 as pickle\n",
    "import seaborn as sns\n",
    "\n",
    "import warnings\n",
    "warnings.filterwarnings(\"ignore\")\n",
    "import sklearn\n",
    "from sklearn.mixture import GaussianMixture as GMM\n",
    "from transformer import DataTransformer\n",
    "\n",
    "from geo_handler import (geo_loc, get_lat_long, take_closest, \n",
    "                         get_octa, reorganize_geocodes, get_nearest_loc,\n",
    "                         augment_geocode_dict)"
   ]
  },
  {
   "cell_type": "code",
   "execution_count": 121,
   "metadata": {
    "collapsed": true,
    "jupyter": {
     "outputs_hidden": true
    }
   },
   "outputs": [],
   "source": [
    "ADD_GEO_MAP = pickle.load(open('models/add_to_geo_map.pkl', 'rb'))\n",
    "FOREX = pickle.load(open(\"models/exchange_rates.pkl\", \"rb\"))"
   ]
  },
  {
   "cell_type": "code",
   "execution_count": 291,
   "metadata": {},
   "outputs": [],
   "source": [
    "from bisect import bisect_left\n",
    "from geopy.distance import geodesic\n",
    "from collections import OrderedDict\n",
    "from operator import getitem\n",
    "import numpy as np\n",
    "\n",
    "\n",
    "def geo_loc(point = None, address = None):\n",
    "    \n",
    "    from geopy.geocoders import Nominatim\n",
    "    geolocator = Nominatim(user_agent=\"map.app\")\n",
    "    \n",
    "    if address is None:\n",
    "        try:\n",
    "            location = geolocator.reverse(point)\n",
    "            return (location.address, (location.latitude, location.longitude), \n",
    "                    location.raw)\n",
    "        except:\n",
    "            return 'Invalid geo-coordinates !!'\n",
    "    else:\n",
    "        try:\n",
    "            location = geolocator.geocode(address)\n",
    "            return (location.address, (location.latitude, location.longitude), \n",
    "                    location.raw)\n",
    "        except:\n",
    "            return 'Invalid Address !!'\n",
    "\n",
    "def get_lat_long(address):\n",
    "    try:\n",
    "        point_ = ADD_GEO_MAP[address.strip()]\n",
    "        return point_['latitude'], point_['longitude']\n",
    "    except:\n",
    "        point_ = geo_loc(address = address.strip())\n",
    "        return point_[2]['lat'], point_[2]['lon']\n",
    "    else:\n",
    "        return 0, 0\n",
    "    \n",
    "\n",
    "def take_closest(myList, myNumber):\n",
    "    \"\"\"\n",
    "    Assumes myList is sorted. Returns closest value to myNumber.\n",
    "\n",
    "    If two numbers are equally close, return the smallest number.\n",
    "    \"\"\"\n",
    "    pos = bisect_left(myList, myNumber)\n",
    "    if pos == 0:\n",
    "        return myList[0]\n",
    "    if pos == len(myList):\n",
    "        return myList[-1]\n",
    "    before = myList[pos - 1]\n",
    "    after = myList[pos]\n",
    "    if after - myNumber < myNumber - before:\n",
    "        return after\n",
    "    else:\n",
    "        return before\n",
    "\n",
    "def get_octa(point):\n",
    "    if float(point['latitude']) < 0:\n",
    "        if float(point['longitude']) < 0:\n",
    "            return int(float(point['longitude']) / -90)\n",
    "        else:\n",
    "            return int(float(point['longitude']) / 90) + 2\n",
    "    else:\n",
    "        if float(point['longitude']) < 0:\n",
    "            return int(float(point['longitude']) / -90) + 4\n",
    "        else:\n",
    "            return int(float(point['longitude']) / 90) + 6\n",
    "\n",
    "\n",
    "def reorganize_geocodes(geocodes_dictionary):\n",
    "    from collections import OrderedDict\n",
    "    coordinates = OrderedDict()\n",
    "    \n",
    "    coordinates['address'] = np.array(list(geocodes_dictionary.keys()))\n",
    "    coordinates['latitude'] = np.array([row['latitude'] for name, row in geocodes_dictionary.items()])\n",
    "    coordinates['longitude'] = np.array([row['longitude'] for name, row in geocodes_dictionary.items()])\n",
    "    coordinates['category'] = np.array([row['category'] for name, row in geocodes_dictionary.items()])\n",
    "    coordinates['distance'] = np.array([row['distance'] for name, row in geocodes_dictionary.items()])\n",
    "    return coordinates\n",
    "\n",
    "def augment_geocode_dict(geocodes):\n",
    "    \n",
    "    from geopy.distance import geodesic\n",
    "    from collections import OrderedDict\n",
    "    from operator import getitem\n",
    "    \n",
    "    for key in geocodes.keys():\n",
    "        geocodes[key]['category'] = get_octa(geocodes[key])\n",
    "        geocodes[key]['distance'] = float(geodesic((0, 0), (geocodes[key]['latitude'], geocodes[key]['longitude'])).km)\n",
    "    geocodes = OrderedDict(sorted(geocodes.items(), key=lambda x: getitem(x[1], 'distance')))\n",
    "    return geocodes\n",
    "\n",
    "\n",
    "def get_nearest_loc(point, geocodes = None):\n",
    "    from geopy.distance import geodesic\n",
    "    if geocodes is None:\n",
    "        return geo_loc(point)\n",
    "    else:\n",
    "        try:\n",
    "            point_category = get_octa(point)\n",
    "            geolist = geocodes['distance'][geocodes['category'] == point_category]\n",
    "            distance = float(geodesic((0, 0), (point['latitude'], point['longitude'])).km)\n",
    "            closest = np.where(geocodes['distance'] == take_closest(geolist, distance))\n",
    "\n",
    "            closest_category = geocodes['category'][closest][0]\n",
    "            closest_distance = geocodes['distance'][closest][0]\n",
    "            # print(closest_category, point_category, abs(closest_distance - distance))\n",
    "            if (closest_category != point_category) or abs(closest_distance - distance) > 10:\n",
    "                return geo_loc(point)\n",
    "            else:\n",
    "                # return point_category, closest_category, distance, closest_distance, geocodes['address'][closest[0][0]]\n",
    "                return geocodes['address'][closest[0][0]]\n",
    "\n",
    "        except:\n",
    "            return ''\n",
    "\n",
    "def get_geocodes(address):\n",
    "    try:\n",
    "        # return coords_dict[address]\n",
    "        location = COORDS[address]\n",
    "        return [location['latitude'], location['longitude']]\n",
    "    except:\n",
    "        return ''"
   ]
  },
  {
   "cell_type": "code",
   "execution_count": 123,
   "metadata": {
    "collapsed": true,
    "jupyter": {
     "outputs_hidden": true
    }
   },
   "outputs": [
    {
     "name": "stdout",
     "output_type": "stream",
     "text": [
      "CPU times: user 2.61 s, sys: 0 ns, total: 2.61 s\n",
      "Wall time: 2.6 s\n"
     ]
    }
   ],
   "source": [
    "%%time\n",
    "COORDS = reorganize_geocodes(augment_geocode_dict(ADD_GEO_MAP))"
   ]
  },
  {
   "cell_type": "code",
   "execution_count": 124,
   "metadata": {
    "collapsed": true,
    "jupyter": {
     "outputs_hidden": true
    }
   },
   "outputs": [],
   "source": [
    "df = pd.read_csv('data/hackathon_parsed_format_a.csv')"
   ]
  },
  {
   "cell_type": "code",
   "execution_count": 125,
   "metadata": {
    "collapsed": true,
    "jupyter": {
     "outputs_hidden": true
    }
   },
   "outputs": [
    {
     "data": {
      "text/html": [
       "<div>\n",
       "<style scoped>\n",
       "    .dataframe tbody tr th:only-of-type {\n",
       "        vertical-align: middle;\n",
       "    }\n",
       "\n",
       "    .dataframe tbody tr th {\n",
       "        vertical-align: top;\n",
       "    }\n",
       "\n",
       "    .dataframe thead th {\n",
       "        text-align: right;\n",
       "    }\n",
       "</style>\n",
       "<table border=\"1\" class=\"dataframe\">\n",
       "  <thead>\n",
       "    <tr style=\"text-align: right;\">\n",
       "      <th></th>\n",
       "      <th>32a_val_dt</th>\n",
       "      <th>33b_cur</th>\n",
       "      <th>33b_orig_ord_amt</th>\n",
       "      <th>50a_payor_lon</th>\n",
       "      <th>50a_payor_lat</th>\n",
       "      <th>50f_payor_acct_nm:</th>\n",
       "      <th>50f_payor_name:</th>\n",
       "      <th>50f_payor_add_ln_1</th>\n",
       "      <th>50f_payor_add_ln_2</th>\n",
       "      <th>50f_payor_add_lat</th>\n",
       "      <th>...</th>\n",
       "      <th>50k_payor_add_lon</th>\n",
       "      <th>59f_ben_acct_num:</th>\n",
       "      <th>59f_ben_name</th>\n",
       "      <th>59f_ben_add_ln_1</th>\n",
       "      <th>59f_ben_add_ln_2</th>\n",
       "      <th>59f_ben_add_lat</th>\n",
       "      <th>59f_ben_add_lon</th>\n",
       "      <th>71A_chg_dtls</th>\n",
       "      <th>71f_chg_dtls_cur</th>\n",
       "      <th>71f_chg_dtls_amt</th>\n",
       "    </tr>\n",
       "  </thead>\n",
       "  <tbody>\n",
       "    <tr>\n",
       "      <th>0</th>\n",
       "      <td>2021-08-13</td>\n",
       "      <td>RUB</td>\n",
       "      <td>1544103.68</td>\n",
       "      <td>/0000000000000000000000000000009621</td>\n",
       "      <td>BIC68DF2C94</td>\n",
       "      <td>NaN</td>\n",
       "      <td>NaN</td>\n",
       "      <td>NaN</td>\n",
       "      <td>NaN</td>\n",
       "      <td>NaN</td>\n",
       "      <td>...</td>\n",
       "      <td>NaN</td>\n",
       "      <td>6099</td>\n",
       "      <td>ANGEL JAMES</td>\n",
       "      <td>1789 PHILLIPS RD</td>\n",
       "      <td>US GLENDALE</td>\n",
       "      <td>34.146942</td>\n",
       "      <td>-118.247847</td>\n",
       "      <td>SHA</td>\n",
       "      <td>NaN</td>\n",
       "      <td>NaN</td>\n",
       "    </tr>\n",
       "    <tr>\n",
       "      <th>1</th>\n",
       "      <td>2021-08-13</td>\n",
       "      <td>RUB</td>\n",
       "      <td>912070.95</td>\n",
       "      <td>/0000000000000000000000000000007346</td>\n",
       "      <td>BIC68DF2C94</td>\n",
       "      <td>NaN</td>\n",
       "      <td>NaN</td>\n",
       "      <td>NaN</td>\n",
       "      <td>NaN</td>\n",
       "      <td>NaN</td>\n",
       "      <td>...</td>\n",
       "      <td>NaN</td>\n",
       "      <td>874</td>\n",
       "      <td>JAKUB EVANS</td>\n",
       "      <td>369653 PEAR ST</td>\n",
       "      <td>US WELLS</td>\n",
       "      <td>47.566422</td>\n",
       "      <td>-99.650882</td>\n",
       "      <td>BEN</td>\n",
       "      <td>RUB</td>\n",
       "      <td>0.0</td>\n",
       "    </tr>\n",
       "    <tr>\n",
       "      <th>2</th>\n",
       "      <td>2021-08-13</td>\n",
       "      <td>RUB</td>\n",
       "      <td>21760302.59</td>\n",
       "      <td>/0000000000000000000000000000005305</td>\n",
       "      <td>BIC68DF2C94</td>\n",
       "      <td>NaN</td>\n",
       "      <td>NaN</td>\n",
       "      <td>NaN</td>\n",
       "      <td>NaN</td>\n",
       "      <td>NaN</td>\n",
       "      <td>...</td>\n",
       "      <td>NaN</td>\n",
       "      <td>5436</td>\n",
       "      <td>ZIGA MITCHELL</td>\n",
       "      <td>131041 DEBRA DR</td>\n",
       "      <td>US GROVER</td>\n",
       "      <td>42.795605</td>\n",
       "      <td>-110.929451</td>\n",
       "      <td>SHA</td>\n",
       "      <td>NaN</td>\n",
       "      <td>NaN</td>\n",
       "    </tr>\n",
       "    <tr>\n",
       "      <th>3</th>\n",
       "      <td>2021-08-13</td>\n",
       "      <td>RUB</td>\n",
       "      <td>878587.53</td>\n",
       "      <td>/0000000000000000000000000000004127</td>\n",
       "      <td>BIC68DF2C94</td>\n",
       "      <td>NaN</td>\n",
       "      <td>NaN</td>\n",
       "      <td>NaN</td>\n",
       "      <td>NaN</td>\n",
       "      <td>NaN</td>\n",
       "      <td>...</td>\n",
       "      <td>NaN</td>\n",
       "      <td>8707</td>\n",
       "      <td>YAEL DEMERS</td>\n",
       "      <td>50438 HAYMARKET ST</td>\n",
       "      <td>US MOORE</td>\n",
       "      <td>35.815612</td>\n",
       "      <td>-101.910435</td>\n",
       "      <td>SHA</td>\n",
       "      <td>NaN</td>\n",
       "      <td>NaN</td>\n",
       "    </tr>\n",
       "    <tr>\n",
       "      <th>4</th>\n",
       "      <td>2021-08-13</td>\n",
       "      <td>RUB</td>\n",
       "      <td>6696355.97</td>\n",
       "      <td>/0000000000000000000000000000006978</td>\n",
       "      <td>BIC68DF2C94</td>\n",
       "      <td>NaN</td>\n",
       "      <td>NaN</td>\n",
       "      <td>NaN</td>\n",
       "      <td>NaN</td>\n",
       "      <td>NaN</td>\n",
       "      <td>...</td>\n",
       "      <td>NaN</td>\n",
       "      <td>4326</td>\n",
       "      <td>NOEL PLANTE</td>\n",
       "      <td>43790 MOSHER CT</td>\n",
       "      <td>US WAUCHULA</td>\n",
       "      <td>27.547259</td>\n",
       "      <td>-81.811471</td>\n",
       "      <td>SHA</td>\n",
       "      <td>NaN</td>\n",
       "      <td>NaN</td>\n",
       "    </tr>\n",
       "  </tbody>\n",
       "</table>\n",
       "<p>5 rows × 26 columns</p>\n",
       "</div>"
      ],
      "text/plain": [
       "   32a_val_dt 33b_cur  33b_orig_ord_amt                        50a_payor_lon  \\\n",
       "0  2021-08-13     RUB        1544103.68  /0000000000000000000000000000009621   \n",
       "1  2021-08-13     RUB         912070.95  /0000000000000000000000000000007346   \n",
       "2  2021-08-13     RUB       21760302.59  /0000000000000000000000000000005305   \n",
       "3  2021-08-13     RUB         878587.53  /0000000000000000000000000000004127   \n",
       "4  2021-08-13     RUB        6696355.97  /0000000000000000000000000000006978   \n",
       "\n",
       "  50a_payor_lat 50f_payor_acct_nm: 50f_payor_name: 50f_payor_add_ln_1  \\\n",
       "0   BIC68DF2C94                NaN             NaN                NaN   \n",
       "1   BIC68DF2C94                NaN             NaN                NaN   \n",
       "2   BIC68DF2C94                NaN             NaN                NaN   \n",
       "3   BIC68DF2C94                NaN             NaN                NaN   \n",
       "4   BIC68DF2C94                NaN             NaN                NaN   \n",
       "\n",
       "  50f_payor_add_ln_2  50f_payor_add_lat  ...  50k_payor_add_lon  \\\n",
       "0                NaN                NaN  ...                NaN   \n",
       "1                NaN                NaN  ...                NaN   \n",
       "2                NaN                NaN  ...                NaN   \n",
       "3                NaN                NaN  ...                NaN   \n",
       "4                NaN                NaN  ...                NaN   \n",
       "\n",
       "   59f_ben_acct_num:     59f_ben_name      59f_ben_add_ln_1 59f_ben_add_ln_2  \\\n",
       "0               6099      ANGEL JAMES      1789 PHILLIPS RD      US GLENDALE   \n",
       "1                874      JAKUB EVANS        369653 PEAR ST         US WELLS   \n",
       "2               5436    ZIGA MITCHELL       131041 DEBRA DR        US GROVER   \n",
       "3               8707      YAEL DEMERS    50438 HAYMARKET ST         US MOORE   \n",
       "4               4326      NOEL PLANTE       43790 MOSHER CT      US WAUCHULA   \n",
       "\n",
       "   59f_ben_add_lat  59f_ben_add_lon  71A_chg_dtls 71f_chg_dtls_cur  \\\n",
       "0        34.146942      -118.247847           SHA              NaN   \n",
       "1        47.566422       -99.650882           BEN              RUB   \n",
       "2        42.795605      -110.929451           SHA              NaN   \n",
       "3        35.815612      -101.910435           SHA              NaN   \n",
       "4        27.547259       -81.811471           SHA              NaN   \n",
       "\n",
       "  71f_chg_dtls_amt  \n",
       "0              NaN  \n",
       "1              0.0  \n",
       "2              NaN  \n",
       "3              NaN  \n",
       "4              NaN  \n",
       "\n",
       "[5 rows x 26 columns]"
      ]
     },
     "execution_count": 125,
     "metadata": {},
     "output_type": "execute_result"
    }
   ],
   "source": [
    "df.head()"
   ]
  },
  {
   "cell_type": "code",
   "execution_count": 7,
   "metadata": {
    "collapsed": true,
    "jupyter": {
     "outputs_hidden": true
    }
   },
   "outputs": [],
   "source": [
    "# %%time\n",
    "# df[['59f_ben_add_lat', '59f_ben_add_lon']][:100] \\\n",
    "#                 .apply(lambda x: get_nearest_loc({'latitude' : x[0], 'longitude': x[1]}, \n",
    "#                         geocodes = COORDS), axis = 1)"
   ]
  },
  {
   "cell_type": "code",
   "execution_count": 127,
   "metadata": {
    "collapsed": true,
    "jupyter": {
     "outputs_hidden": true
    }
   },
   "outputs": [],
   "source": [
    "# df.hist()"
   ]
  },
  {
   "cell_type": "code",
   "execution_count": 144,
   "metadata": {
    "collapsed": true,
    "jupyter": {
     "outputs_hidden": true
    }
   },
   "outputs": [],
   "source": [
    "data = pd.DataFrame()"
   ]
  },
  {
   "cell_type": "code",
   "execution_count": 145,
   "metadata": {
    "collapsed": true,
    "jupyter": {
     "outputs_hidden": true
    }
   },
   "outputs": [],
   "source": [
    "data = df[['33b_cur', '33b_orig_ord_amt']]"
   ]
  },
  {
   "cell_type": "code",
   "execution_count": 146,
   "metadata": {
    "collapsed": true,
    "jupyter": {
     "outputs_hidden": true
    }
   },
   "outputs": [
    {
     "name": "stdout",
     "output_type": "stream",
     "text": [
      "CPU times: user 51.8 ms, sys: 0 ns, total: 51.8 ms\n",
      "Wall time: 50.9 ms\n"
     ]
    }
   ],
   "source": [
    "%%time\n",
    "conditions = [\n",
    "    ~df['50a_payor_lon'].isnull(), \n",
    "    ~df['50f_payor_add_ln_2'].isnull(), \n",
    "    ~df['50k_payor_add_ln_2'].isnull()]\n",
    "choices = ['A', 'F', 'K']\n",
    "data['src_xfrr_type'] = np.select(conditions, choices, default = \"\")"
   ]
  },
  {
   "cell_type": "code",
   "execution_count": 161,
   "metadata": {
    "collapsed": true,
    "jupyter": {
     "outputs_hidden": true
    }
   },
   "outputs": [
    {
     "name": "stdout",
     "output_type": "stream",
     "text": [
      "CPU times: user 9.01 ms, sys: 450 µs, total: 9.46 ms\n",
      "Wall time: 8.48 ms\n"
     ]
    }
   ],
   "source": [
    "%%time\n",
    "conditions = [\n",
    "    ~df['50f_payor_add_lon'].isnull(),\n",
    "    ~df[\"50k_payor_add_lon\"].isnull()]\n",
    "choices = [df[\"50f_payor_add_lon\"], df[\"50k_payor_add_lon\"]]\n",
    "data['src_lon'] = np.select(conditions, choices, default=0)"
   ]
  },
  {
   "cell_type": "code",
   "execution_count": 162,
   "metadata": {
    "collapsed": true,
    "jupyter": {
     "outputs_hidden": true
    }
   },
   "outputs": [
    {
     "name": "stdout",
     "output_type": "stream",
     "text": [
      "CPU times: user 8.27 ms, sys: 0 ns, total: 8.27 ms\n",
      "Wall time: 7.29 ms\n"
     ]
    }
   ],
   "source": [
    "%%time\n",
    "conditions = [\n",
    "    ~df[\"50f_payor_add_lat\"].isnull(),\n",
    "    ~df[\"50k_payor_add_lat\"].isnull()]\n",
    "choices = [df[\"50f_payor_add_lat\"], df[\"50k_payor_add_lat\"]]\n",
    "data[\"src_lat\"] = np.select(conditions, choices, default=0)"
   ]
  },
  {
   "cell_type": "code",
   "execution_count": 163,
   "metadata": {
    "collapsed": true,
    "jupyter": {
     "outputs_hidden": true
    }
   },
   "outputs": [],
   "source": [
    "data[[\"target_lat\", \"target_lon\"]] = df.loc[:, [\"59f_ben_add_lat\", \"59f_ben_add_lon\"]]"
   ]
  },
  {
   "cell_type": "code",
   "execution_count": 164,
   "metadata": {
    "collapsed": true,
    "jupyter": {
     "outputs_hidden": true
    }
   },
   "outputs": [],
   "source": [
    "data[\"charge_dtls\"] = df.loc[:, \"71A_chg_dtls\"]"
   ]
  },
  {
   "cell_type": "code",
   "execution_count": 165,
   "metadata": {
    "collapsed": true,
    "jupyter": {
     "outputs_hidden": true
    }
   },
   "outputs": [],
   "source": [
    "data[[\"charge_dtls_cur\", \"charge_dtls_amt\"]] = df.loc[:, [\"71f_chg_dtls_cur\", \"71f_chg_dtls_amt\"]]"
   ]
  },
  {
   "cell_type": "code",
   "execution_count": 168,
   "metadata": {
    "collapsed": true,
    "jupyter": {
     "outputs_hidden": true
    }
   },
   "outputs": [
    {
     "data": {
      "text/html": [
       "<div>\n",
       "<style scoped>\n",
       "    .dataframe tbody tr th:only-of-type {\n",
       "        vertical-align: middle;\n",
       "    }\n",
       "\n",
       "    .dataframe tbody tr th {\n",
       "        vertical-align: top;\n",
       "    }\n",
       "\n",
       "    .dataframe thead th {\n",
       "        text-align: right;\n",
       "    }\n",
       "</style>\n",
       "<table border=\"1\" class=\"dataframe\">\n",
       "  <thead>\n",
       "    <tr style=\"text-align: right;\">\n",
       "      <th></th>\n",
       "      <th>33b_cur</th>\n",
       "      <th>33b_orig_ord_amt</th>\n",
       "      <th>src_xfrr_type</th>\n",
       "      <th>src_lon</th>\n",
       "      <th>src_lat</th>\n",
       "      <th>target_lat</th>\n",
       "      <th>target_lon</th>\n",
       "      <th>charge_dtls</th>\n",
       "      <th>charge_dtls_cur</th>\n",
       "      <th>charge_dtls_amt</th>\n",
       "    </tr>\n",
       "  </thead>\n",
       "  <tbody>\n",
       "  </tbody>\n",
       "</table>\n",
       "</div>"
      ],
      "text/plain": [
       "Empty DataFrame\n",
       "Columns: [33b_cur, 33b_orig_ord_amt, src_xfrr_type, src_lon, src_lat, target_lat, target_lon, charge_dtls, charge_dtls_cur, charge_dtls_amt]\n",
       "Index: []"
      ]
     },
     "execution_count": 168,
     "metadata": {},
     "output_type": "execute_result"
    }
   ],
   "source": [
    "data[(data['src_lon'] == 0) & (data['src_xfrr_type'] != 'A')]"
   ]
  },
  {
   "cell_type": "code",
   "execution_count": 170,
   "metadata": {
    "collapsed": true,
    "jupyter": {
     "outputs_hidden": true
    }
   },
   "outputs": [
    {
     "data": {
      "text/html": [
       "<div>\n",
       "<style scoped>\n",
       "    .dataframe tbody tr th:only-of-type {\n",
       "        vertical-align: middle;\n",
       "    }\n",
       "\n",
       "    .dataframe tbody tr th {\n",
       "        vertical-align: top;\n",
       "    }\n",
       "\n",
       "    .dataframe thead th {\n",
       "        text-align: right;\n",
       "    }\n",
       "</style>\n",
       "<table border=\"1\" class=\"dataframe\">\n",
       "  <thead>\n",
       "    <tr style=\"text-align: right;\">\n",
       "      <th></th>\n",
       "      <th>33b_cur</th>\n",
       "      <th>33b_orig_ord_amt</th>\n",
       "      <th>src_xfrr_type</th>\n",
       "      <th>src_lon</th>\n",
       "      <th>src_lat</th>\n",
       "      <th>target_lat</th>\n",
       "      <th>target_lon</th>\n",
       "      <th>charge_dtls</th>\n",
       "      <th>charge_dtls_cur</th>\n",
       "      <th>charge_dtls_amt</th>\n",
       "    </tr>\n",
       "  </thead>\n",
       "  <tbody>\n",
       "  </tbody>\n",
       "</table>\n",
       "</div>"
      ],
      "text/plain": [
       "Empty DataFrame\n",
       "Columns: [33b_cur, 33b_orig_ord_amt, src_xfrr_type, src_lon, src_lat, target_lat, target_lon, charge_dtls, charge_dtls_cur, charge_dtls_amt]\n",
       "Index: []"
      ]
     },
     "execution_count": 170,
     "metadata": {},
     "output_type": "execute_result"
    }
   ],
   "source": [
    "data[(data['src_lon'] == 0) & (data['src_xfrr_type'] == 'k')]"
   ]
  },
  {
   "cell_type": "code",
   "execution_count": 171,
   "metadata": {
    "collapsed": true,
    "jupyter": {
     "outputs_hidden": true
    }
   },
   "outputs": [],
   "source": [
    "data[\"charge_dtls_cur\"] = data[\"charge_dtls_cur\"].replace(np.nan, \"999\", regex=True)\n",
    "data[\"charge_dtls_amt\"] = data[\"charge_dtls_amt\"].replace(np.nan, 0, regex=True)\n",
    "\n",
    "data[\"target_lat\"] = data[\"target_lat\"].replace(np.nan, 0, regex=True)\n",
    "data[\"target_lon\"] = data[\"target_lon\"].replace(np.nan, 0, regex=True)\n",
    "data[\"src_lon\"] = data[\"src_lon\"].replace(np.nan, 0, regex=True)\n",
    "data[\"src_lat\"] = data[\"src_lat\"].replace(np.nan, 0, regex=True)"
   ]
  },
  {
   "cell_type": "code",
   "execution_count": 172,
   "metadata": {
    "collapsed": true,
    "jupyter": {
     "outputs_hidden": true
    }
   },
   "outputs": [
    {
     "data": {
      "text/plain": [
       "Index(['33b_cur', '33b_orig_ord_amt', 'src_xfrr_type', 'src_lon', 'src_lat',\n",
       "       'target_lat', 'target_lon', 'charge_dtls', 'charge_dtls_cur',\n",
       "       'charge_dtls_amt'],\n",
       "      dtype='object')"
      ]
     },
     "execution_count": 172,
     "metadata": {},
     "output_type": "execute_result"
    }
   ],
   "source": [
    "data.columns"
   ]
  },
  {
   "cell_type": "code",
   "execution_count": 173,
   "metadata": {
    "collapsed": true,
    "jupyter": {
     "outputs_hidden": true
    }
   },
   "outputs": [
    {
     "data": {
      "text/html": [
       "<div>\n",
       "<style scoped>\n",
       "    .dataframe tbody tr th:only-of-type {\n",
       "        vertical-align: middle;\n",
       "    }\n",
       "\n",
       "    .dataframe tbody tr th {\n",
       "        vertical-align: top;\n",
       "    }\n",
       "\n",
       "    .dataframe thead th {\n",
       "        text-align: right;\n",
       "    }\n",
       "</style>\n",
       "<table border=\"1\" class=\"dataframe\">\n",
       "  <thead>\n",
       "    <tr style=\"text-align: right;\">\n",
       "      <th></th>\n",
       "      <th>33b_cur</th>\n",
       "      <th>33b_orig_ord_amt</th>\n",
       "      <th>src_xfrr_type</th>\n",
       "      <th>src_lon</th>\n",
       "      <th>src_lat</th>\n",
       "      <th>target_lat</th>\n",
       "      <th>target_lon</th>\n",
       "      <th>charge_dtls</th>\n",
       "      <th>charge_dtls_cur</th>\n",
       "      <th>charge_dtls_amt</th>\n",
       "    </tr>\n",
       "  </thead>\n",
       "  <tbody>\n",
       "    <tr>\n",
       "      <th>0</th>\n",
       "      <td>RUB</td>\n",
       "      <td>1544103.68</td>\n",
       "      <td>A</td>\n",
       "      <td>0.000000</td>\n",
       "      <td>0.000000</td>\n",
       "      <td>34.146942</td>\n",
       "      <td>-118.247847</td>\n",
       "      <td>SHA</td>\n",
       "      <td>999</td>\n",
       "      <td>0.0</td>\n",
       "    </tr>\n",
       "    <tr>\n",
       "      <th>1</th>\n",
       "      <td>RUB</td>\n",
       "      <td>912070.95</td>\n",
       "      <td>A</td>\n",
       "      <td>0.000000</td>\n",
       "      <td>0.000000</td>\n",
       "      <td>47.566422</td>\n",
       "      <td>-99.650882</td>\n",
       "      <td>BEN</td>\n",
       "      <td>RUB</td>\n",
       "      <td>0.0</td>\n",
       "    </tr>\n",
       "    <tr>\n",
       "      <th>2</th>\n",
       "      <td>RUB</td>\n",
       "      <td>21760302.59</td>\n",
       "      <td>A</td>\n",
       "      <td>0.000000</td>\n",
       "      <td>0.000000</td>\n",
       "      <td>42.795605</td>\n",
       "      <td>-110.929451</td>\n",
       "      <td>SHA</td>\n",
       "      <td>999</td>\n",
       "      <td>0.0</td>\n",
       "    </tr>\n",
       "    <tr>\n",
       "      <th>3</th>\n",
       "      <td>RUB</td>\n",
       "      <td>878587.53</td>\n",
       "      <td>A</td>\n",
       "      <td>0.000000</td>\n",
       "      <td>0.000000</td>\n",
       "      <td>35.815612</td>\n",
       "      <td>-101.910435</td>\n",
       "      <td>SHA</td>\n",
       "      <td>999</td>\n",
       "      <td>0.0</td>\n",
       "    </tr>\n",
       "    <tr>\n",
       "      <th>4</th>\n",
       "      <td>RUB</td>\n",
       "      <td>6696355.97</td>\n",
       "      <td>A</td>\n",
       "      <td>0.000000</td>\n",
       "      <td>0.000000</td>\n",
       "      <td>27.547259</td>\n",
       "      <td>-81.811471</td>\n",
       "      <td>SHA</td>\n",
       "      <td>999</td>\n",
       "      <td>0.0</td>\n",
       "    </tr>\n",
       "    <tr>\n",
       "      <th>...</th>\n",
       "      <td>...</td>\n",
       "      <td>...</td>\n",
       "      <td>...</td>\n",
       "      <td>...</td>\n",
       "      <td>...</td>\n",
       "      <td>...</td>\n",
       "      <td>...</td>\n",
       "      <td>...</td>\n",
       "      <td>...</td>\n",
       "      <td>...</td>\n",
       "    </tr>\n",
       "    <tr>\n",
       "      <th>379521</th>\n",
       "      <td>USD</td>\n",
       "      <td>8339.00</td>\n",
       "      <td>A</td>\n",
       "      <td>0.000000</td>\n",
       "      <td>0.000000</td>\n",
       "      <td>37.653540</td>\n",
       "      <td>-122.416866</td>\n",
       "      <td>SHA</td>\n",
       "      <td>999</td>\n",
       "      <td>0.0</td>\n",
       "    </tr>\n",
       "    <tr>\n",
       "      <th>379522</th>\n",
       "      <td>USD</td>\n",
       "      <td>4001.56</td>\n",
       "      <td>F</td>\n",
       "      <td>-96.707775</td>\n",
       "      <td>40.808886</td>\n",
       "      <td>39.793896</td>\n",
       "      <td>-74.223206</td>\n",
       "      <td>BEN</td>\n",
       "      <td>USD</td>\n",
       "      <td>0.0</td>\n",
       "    </tr>\n",
       "    <tr>\n",
       "      <th>379523</th>\n",
       "      <td>USD</td>\n",
       "      <td>4456.00</td>\n",
       "      <td>F</td>\n",
       "      <td>-81.822065</td>\n",
       "      <td>37.941215</td>\n",
       "      <td>39.808320</td>\n",
       "      <td>-104.933868</td>\n",
       "      <td>OUR</td>\n",
       "      <td>999</td>\n",
       "      <td>0.0</td>\n",
       "    </tr>\n",
       "    <tr>\n",
       "      <th>379524</th>\n",
       "      <td>USD</td>\n",
       "      <td>8836.10</td>\n",
       "      <td>A</td>\n",
       "      <td>0.000000</td>\n",
       "      <td>0.000000</td>\n",
       "      <td>40.366432</td>\n",
       "      <td>-105.502855</td>\n",
       "      <td>SHA</td>\n",
       "      <td>999</td>\n",
       "      <td>0.0</td>\n",
       "    </tr>\n",
       "    <tr>\n",
       "      <th>379525</th>\n",
       "      <td>USD</td>\n",
       "      <td>4031.02</td>\n",
       "      <td>K</td>\n",
       "      <td>-100.245301</td>\n",
       "      <td>33.157174</td>\n",
       "      <td>36.661239</td>\n",
       "      <td>-80.923967</td>\n",
       "      <td>BEN</td>\n",
       "      <td>USD</td>\n",
       "      <td>0.0</td>\n",
       "    </tr>\n",
       "  </tbody>\n",
       "</table>\n",
       "<p>379526 rows × 10 columns</p>\n",
       "</div>"
      ],
      "text/plain": [
       "       33b_cur  33b_orig_ord_amt src_xfrr_type     src_lon    src_lat  \\\n",
       "0          RUB        1544103.68             A    0.000000   0.000000   \n",
       "1          RUB         912070.95             A    0.000000   0.000000   \n",
       "2          RUB       21760302.59             A    0.000000   0.000000   \n",
       "3          RUB         878587.53             A    0.000000   0.000000   \n",
       "4          RUB        6696355.97             A    0.000000   0.000000   \n",
       "...        ...               ...           ...         ...        ...   \n",
       "379521     USD           8339.00             A    0.000000   0.000000   \n",
       "379522     USD           4001.56             F  -96.707775  40.808886   \n",
       "379523     USD           4456.00             F  -81.822065  37.941215   \n",
       "379524     USD           8836.10             A    0.000000   0.000000   \n",
       "379525     USD           4031.02             K -100.245301  33.157174   \n",
       "\n",
       "        target_lat  target_lon charge_dtls charge_dtls_cur  charge_dtls_amt  \n",
       "0        34.146942 -118.247847         SHA             999              0.0  \n",
       "1        47.566422  -99.650882         BEN             RUB              0.0  \n",
       "2        42.795605 -110.929451         SHA             999              0.0  \n",
       "3        35.815612 -101.910435         SHA             999              0.0  \n",
       "4        27.547259  -81.811471         SHA             999              0.0  \n",
       "...            ...         ...         ...             ...              ...  \n",
       "379521   37.653540 -122.416866         SHA             999              0.0  \n",
       "379522   39.793896  -74.223206         BEN             USD              0.0  \n",
       "379523   39.808320 -104.933868         OUR             999              0.0  \n",
       "379524   40.366432 -105.502855         SHA             999              0.0  \n",
       "379525   36.661239  -80.923967         BEN             USD              0.0  \n",
       "\n",
       "[379526 rows x 10 columns]"
      ]
     },
     "execution_count": 173,
     "metadata": {},
     "output_type": "execute_result"
    }
   ],
   "source": [
    "data"
   ]
  },
  {
   "cell_type": "code",
   "execution_count": 174,
   "metadata": {
    "collapsed": true,
    "jupyter": {
     "outputs_hidden": true
    }
   },
   "outputs": [],
   "source": [
    "numerical_columns = data._get_numeric_data().columns\n",
    "discrete_columns = [col for col in data.columns if col not in numerical_columns]"
   ]
  },
  {
   "cell_type": "code",
   "execution_count": 175,
   "metadata": {
    "collapsed": true,
    "jupyter": {
     "outputs_hidden": true
    }
   },
   "outputs": [],
   "source": [
    "def generate(dataframe, num_samples=1000, n_components = 10):\n",
    "    numerical_columns = dataframe._get_numeric_data().columns\n",
    "    discrete_columns = [col for col in dataframe.columns if col not in numerical_columns]\n",
    "    \n",
    "    _transformer = DataTransformer()\n",
    "    _transformer.fit(dataframe, discrete_columns)\n",
    "    data = _transformer.transform(dataframe)\n",
    "    gmm = GMM(n_components = n_components, covariance_type = \"full\", random_state = 0).fit(data)\n",
    "    Xnew = gmm.sample(num_samples)\n",
    "    Xnew_inv = _transformer.inverse_transform(Xnew[0])\n",
    "    Xnew_inv[\"label\"] = Xnew[1]\n",
    "    return gmm, _transformer, Xnew_inv"
   ]
  },
  {
   "cell_type": "code",
   "execution_count": 361,
   "metadata": {},
   "outputs": [
    {
     "name": "stdout",
     "output_type": "stream",
     "text": [
      "CPU times: user 14min 54s, sys: 11min 58s, total: 26min 52s\n",
      "Wall time: 10min 33s\n"
     ]
    }
   ],
   "source": [
    "%%time\n",
    "model, transformer, samples = generate(data, num_samples = 1000, n_components = 15)"
   ]
  },
  {
   "cell_type": "code",
   "execution_count": 362,
   "metadata": {},
   "outputs": [
    {
     "name": "stdout",
     "output_type": "stream",
     "text": [
      "CPU times: user 2.31 ms, sys: 3 ms, total: 5.32 ms\n",
      "Wall time: 17.9 ms\n"
     ]
    }
   ],
   "source": [
    "%%time\n",
    "with open('models/GMM_MODEL_10.pkl', 'wb') as file:\n",
    "    pickle.dump(model, file, protocol=pickle.HIGHEST_PROTOCOL)\n",
    "with open('models/GMM_TRANSFORMER.pkl', 'wb') as file:\n",
    "    pickle.dump(transformer, file, protocol=pickle.HIGHEST_PROTOCOL)"
   ]
  },
  {
   "cell_type": "code",
   "execution_count": 363,
   "metadata": {},
   "outputs": [],
   "source": [
    "# %%time\n",
    "# model = pickle.load(open('models/GMM_MODEL.pkl', 'rb'))\n",
    "# transformer = pickle.load(open('models/GMM_TRANSFORMER.pkl', 'rb'))"
   ]
  },
  {
   "cell_type": "code",
   "execution_count": 388,
   "metadata": {},
   "outputs": [
    {
     "name": "stdout",
     "output_type": "stream",
     "text": [
      "CPU times: user 10.9 s, sys: 0 ns, total: 10.9 s\n",
      "Wall time: 4.41 s\n"
     ]
    }
   ],
   "source": [
    "%%time\n",
    "samples = transformer.inverse_transform(model.sample(400000)[0])"
   ]
  },
  {
   "cell_type": "code",
   "execution_count": 507,
   "metadata": {},
   "outputs": [
    {
     "data": {
      "text/html": [
       "<div>\n",
       "<style scoped>\n",
       "    .dataframe tbody tr th:only-of-type {\n",
       "        vertical-align: middle;\n",
       "    }\n",
       "\n",
       "    .dataframe tbody tr th {\n",
       "        vertical-align: top;\n",
       "    }\n",
       "\n",
       "    .dataframe thead th {\n",
       "        text-align: right;\n",
       "    }\n",
       "</style>\n",
       "<table border=\"1\" class=\"dataframe\">\n",
       "  <thead>\n",
       "    <tr style=\"text-align: right;\">\n",
       "      <th></th>\n",
       "      <th>33b_cur</th>\n",
       "      <th>33b_orig_ord_amt</th>\n",
       "      <th>src_xfrr_type</th>\n",
       "      <th>src_lon</th>\n",
       "      <th>src_lat</th>\n",
       "      <th>target_lat</th>\n",
       "      <th>target_lon</th>\n",
       "      <th>charge_dtls</th>\n",
       "      <th>charge_dtls_cur</th>\n",
       "      <th>charge_dtls_amt</th>\n",
       "    </tr>\n",
       "  </thead>\n",
       "  <tbody>\n",
       "    <tr>\n",
       "      <th>0</th>\n",
       "      <td>RUB</td>\n",
       "      <td>1.777555e+05</td>\n",
       "      <td>A</td>\n",
       "      <td>0.000898</td>\n",
       "      <td>-0.000233</td>\n",
       "      <td>43.354841</td>\n",
       "      <td>-118.088277</td>\n",
       "      <td>OUR</td>\n",
       "      <td>999</td>\n",
       "      <td>7.397045e-06</td>\n",
       "    </tr>\n",
       "    <tr>\n",
       "      <th>1</th>\n",
       "      <td>RUB</td>\n",
       "      <td>2.994681e+06</td>\n",
       "      <td>A</td>\n",
       "      <td>-0.002809</td>\n",
       "      <td>-0.000340</td>\n",
       "      <td>32.857243</td>\n",
       "      <td>-100.964917</td>\n",
       "      <td>SHA</td>\n",
       "      <td>999</td>\n",
       "      <td>-1.191162e-06</td>\n",
       "    </tr>\n",
       "    <tr>\n",
       "      <th>2</th>\n",
       "      <td>RUB</td>\n",
       "      <td>2.886494e+06</td>\n",
       "      <td>A</td>\n",
       "      <td>0.002552</td>\n",
       "      <td>-0.000056</td>\n",
       "      <td>38.306014</td>\n",
       "      <td>-88.740255</td>\n",
       "      <td>SHA</td>\n",
       "      <td>999</td>\n",
       "      <td>2.481430e-06</td>\n",
       "    </tr>\n",
       "    <tr>\n",
       "      <th>3</th>\n",
       "      <td>RUB</td>\n",
       "      <td>3.680742e+06</td>\n",
       "      <td>A</td>\n",
       "      <td>0.001321</td>\n",
       "      <td>-0.000498</td>\n",
       "      <td>38.742025</td>\n",
       "      <td>-79.552326</td>\n",
       "      <td>OUR</td>\n",
       "      <td>999</td>\n",
       "      <td>3.977572e-06</td>\n",
       "    </tr>\n",
       "    <tr>\n",
       "      <th>4</th>\n",
       "      <td>RUB</td>\n",
       "      <td>2.924897e+06</td>\n",
       "      <td>A</td>\n",
       "      <td>0.000154</td>\n",
       "      <td>-0.000424</td>\n",
       "      <td>31.954349</td>\n",
       "      <td>-81.233302</td>\n",
       "      <td>SHA</td>\n",
       "      <td>999</td>\n",
       "      <td>1.756170e-06</td>\n",
       "    </tr>\n",
       "    <tr>\n",
       "      <th>...</th>\n",
       "      <td>...</td>\n",
       "      <td>...</td>\n",
       "      <td>...</td>\n",
       "      <td>...</td>\n",
       "      <td>...</td>\n",
       "      <td>...</td>\n",
       "      <td>...</td>\n",
       "      <td>...</td>\n",
       "      <td>...</td>\n",
       "      <td>...</td>\n",
       "    </tr>\n",
       "    <tr>\n",
       "      <th>399995</th>\n",
       "      <td>RUB</td>\n",
       "      <td>1.647840e+06</td>\n",
       "      <td>F</td>\n",
       "      <td>-83.912394</td>\n",
       "      <td>36.875976</td>\n",
       "      <td>43.843799</td>\n",
       "      <td>-72.914794</td>\n",
       "      <td>BEN</td>\n",
       "      <td>RUB</td>\n",
       "      <td>-7.025361e-07</td>\n",
       "    </tr>\n",
       "    <tr>\n",
       "      <th>399996</th>\n",
       "      <td>RUB</td>\n",
       "      <td>1.591435e+05</td>\n",
       "      <td>F</td>\n",
       "      <td>-79.612803</td>\n",
       "      <td>39.984627</td>\n",
       "      <td>40.955133</td>\n",
       "      <td>-73.514552</td>\n",
       "      <td>BEN</td>\n",
       "      <td>RUB</td>\n",
       "      <td>-1.138340e-05</td>\n",
       "    </tr>\n",
       "    <tr>\n",
       "      <th>399997</th>\n",
       "      <td>RUB</td>\n",
       "      <td>1.029417e+06</td>\n",
       "      <td>F</td>\n",
       "      <td>-79.466005</td>\n",
       "      <td>40.090516</td>\n",
       "      <td>42.985735</td>\n",
       "      <td>-77.453620</td>\n",
       "      <td>BEN</td>\n",
       "      <td>RUB</td>\n",
       "      <td>8.676130e-08</td>\n",
       "    </tr>\n",
       "    <tr>\n",
       "      <th>399998</th>\n",
       "      <td>RUB</td>\n",
       "      <td>7.666138e+05</td>\n",
       "      <td>F</td>\n",
       "      <td>-123.185665</td>\n",
       "      <td>42.343560</td>\n",
       "      <td>42.084039</td>\n",
       "      <td>-69.467722</td>\n",
       "      <td>BEN</td>\n",
       "      <td>RUB</td>\n",
       "      <td>-4.400980e-07</td>\n",
       "    </tr>\n",
       "    <tr>\n",
       "      <th>399999</th>\n",
       "      <td>RUB</td>\n",
       "      <td>5.067248e+05</td>\n",
       "      <td>F</td>\n",
       "      <td>-80.943773</td>\n",
       "      <td>44.351944</td>\n",
       "      <td>42.193755</td>\n",
       "      <td>-73.397192</td>\n",
       "      <td>BEN</td>\n",
       "      <td>RUB</td>\n",
       "      <td>-1.313524e-06</td>\n",
       "    </tr>\n",
       "  </tbody>\n",
       "</table>\n",
       "<p>400000 rows × 10 columns</p>\n",
       "</div>"
      ],
      "text/plain": [
       "       33b_cur  33b_orig_ord_amt src_xfrr_type     src_lon    src_lat  \\\n",
       "0          RUB      1.777555e+05             A    0.000898  -0.000233   \n",
       "1          RUB      2.994681e+06             A   -0.002809  -0.000340   \n",
       "2          RUB      2.886494e+06             A    0.002552  -0.000056   \n",
       "3          RUB      3.680742e+06             A    0.001321  -0.000498   \n",
       "4          RUB      2.924897e+06             A    0.000154  -0.000424   \n",
       "...        ...               ...           ...         ...        ...   \n",
       "399995     RUB      1.647840e+06             F  -83.912394  36.875976   \n",
       "399996     RUB      1.591435e+05             F  -79.612803  39.984627   \n",
       "399997     RUB      1.029417e+06             F  -79.466005  40.090516   \n",
       "399998     RUB      7.666138e+05             F -123.185665  42.343560   \n",
       "399999     RUB      5.067248e+05             F  -80.943773  44.351944   \n",
       "\n",
       "        target_lat  target_lon charge_dtls charge_dtls_cur  charge_dtls_amt  \n",
       "0        43.354841 -118.088277         OUR             999     7.397045e-06  \n",
       "1        32.857243 -100.964917         SHA             999    -1.191162e-06  \n",
       "2        38.306014  -88.740255         SHA             999     2.481430e-06  \n",
       "3        38.742025  -79.552326         OUR             999     3.977572e-06  \n",
       "4        31.954349  -81.233302         SHA             999     1.756170e-06  \n",
       "...            ...         ...         ...             ...              ...  \n",
       "399995   43.843799  -72.914794         BEN             RUB    -7.025361e-07  \n",
       "399996   40.955133  -73.514552         BEN             RUB    -1.138340e-05  \n",
       "399997   42.985735  -77.453620         BEN             RUB     8.676130e-08  \n",
       "399998   42.084039  -69.467722         BEN             RUB    -4.400980e-07  \n",
       "399999   42.193755  -73.397192         BEN             RUB    -1.313524e-06  \n",
       "\n",
       "[400000 rows x 10 columns]"
      ]
     },
     "execution_count": 507,
     "metadata": {},
     "output_type": "execute_result"
    }
   ],
   "source": [
    "samples"
   ]
  },
  {
   "cell_type": "code",
   "execution_count": 520,
   "metadata": {},
   "outputs": [
    {
     "data": {
      "image/png": "[encoded data removed]",
      "text/plain": [
       "<Figure size 432x288 with 1 Axes>"
      ]
     },
     "metadata": {},
     "output_type": "display_data"
    }
   ],
   "source": [
    "import seaborn as sns\n",
    "# sns.set(style=\"whitegrid\")\n",
    "sns.set()\n",
    "\n",
    "ax = sns.boxplot(x = samples['33b_cur'], y = samples['33b_orig_ord_amt'].values)\n",
    "plt.show()"
   ]
  },
  {
   "cell_type": "code",
   "execution_count": 389,
   "metadata": {},
   "outputs": [],
   "source": [
    "def corrplot(data, samples):\n",
    "    plt.figure(figsize=(15, 5))\n",
    "    \n",
    "    plt.subplot(121)\n",
    "    sns.heatmap(data.loc[:, :\"target_lat\"].corr(), annot=True, cmap=\"Blues\")\n",
    "    \n",
    "    plt.subplot(122)\n",
    "    sns.heatmap(samples.loc[:, :\"target_lat\"].corr(), annot=True, cmap=\"Blues\")"
   ]
  },
  {
   "cell_type": "code",
   "execution_count": 390,
   "metadata": {},
   "outputs": [],
   "source": [
    "def attr_plot(data, samples):\n",
    "    for col in data.columns:\n",
    "        if col not in discrete_columns:\n",
    "            plt.figure(figsize=(20, 5))\n",
    "            plt.subplot(121)\n",
    "            sns.distplot(data[col], bins=100, hist_kws={'alpha': 0.7})\n",
    "            plt.subplot(122)\n",
    "            sns.distplot(samples[col], bins=100, hist_kws={'alpha': 0.7})\n",
    "        else:\n",
    "            plt.figure(figsize=(20, 5))\n",
    "            plt.subplot(121)\n",
    "            sns.countplot(x=col, data=data)\n",
    "            plt.xticks(rotation=45)\n",
    "            plt.subplot(122)\n",
    "            sns.countplot(x=col, data=samples)\n",
    "            plt.xticks(rotation=45)"
   ]
  },
  {
   "cell_type": "code",
   "execution_count": 391,
   "metadata": {},
   "outputs": [
    {
     "name": "stdout",
     "output_type": "stream",
     "text": [
      "CPU times: user 3 µs, sys: 0 ns, total: 3 µs\n",
      "Wall time: 6.44 µs\n"
     ]
    },
    {
     "data": {
      "image/png": "[encoded data removed]",
      "text/plain": [
       "<Figure size 1080x360 with 4 Axes>"
      ]
     },
     "metadata": {
      "needs_background": "light"
     },
     "output_type": "display_data"
    }
   ],
   "source": [
    "%time\n",
    "corrplot(data, samples)"
   ]
  },
  {
   "cell_type": "code",
   "execution_count": 392,
   "metadata": {},
   "outputs": [
    {
     "name": "stdout",
     "output_type": "stream",
     "text": [
      "CPU times: user 3 µs, sys: 0 ns, total: 3 µs\n",
      "Wall time: 6.44 µs\n"
     ]
    },
    {
     "data": {
      "image/png": "[encoded data removed]",
      "text/plain": [
       "<Figure size 1440x360 with 2 Axes>"
      ]
     },
     "metadata": {
      "needs_background": "light"
     },
     "output_type": "display_data"
    },
    {
     "data": {
      "image/png": "[encoded data removed]",
      "text/plain": [
       "<Figure size 1440x360 with 2 Axes>"
      ]
     },
     "metadata": {
      "needs_background": "light"
     },
     "output_type": "display_data"
    },
    {
     "data": {
      "image/png": "[encoded data removed]",
      "text/plain": [
       "<Figure size 1440x360 with 2 Axes>"
      ]
     },
     "metadata": {
      "needs_background": "light"
     },
     "output_type": "display_data"
    },
    {
     "data": {
      "image/png": "[encoded data removed]",
      "text/plain": [
       "<Figure size 1440x360 with 2 Axes>"
      ]
     },
     "metadata": {
      "needs_background": "light"
     },
     "output_type": "display_data"
    },
    {
     "data": {
      "image/png": "[encoded data removed]",
      "text/plain": [
       "<Figure size 1440x360 with 2 Axes>"
      ]
     },
     "metadata": {
      "needs_background": "light"
     },
     "output_type": "display_data"
    },
    {
     "data": {
      "image/png": "[encoded data removed]",
      "text/plain": [
       "<Figure size 1440x360 with 2 Axes>"
      ]
     },
     "metadata": {
      "needs_background": "light"
     },
     "output_type": "display_data"
    },
    {
     "data": {
      "image/png": "[encoded data removed]",
      "text/plain": [
       "<Figure size 1440x360 with 2 Axes>"
      ]
     },
     "metadata": {
      "needs_background": "light"
     },
     "output_type": "display_data"
    },
    {
     "data": {
      "image/png": "[encoded data removed]",
      "text/plain": [
       "<Figure size 1440x360 with 2 Axes>"
      ]
     },
     "metadata": {
      "needs_background": "light"
     },
     "output_type": "display_data"
    },
    {
     "data": {
      "image/png": "[encoded data removed]",
      "text/plain": [
       "<Figure size 1440x360 with 2 Axes>"
      ]
     },
     "metadata": {
      "needs_background": "light"
     },
     "output_type": "display_data"
    },
    {
     "data": {
      "image/png": "[encoded data removed]",
      "text/plain": [
       "<Figure size 1440x360 with 2 Axes>"
      ]
     },
     "metadata": {
      "needs_background": "light"
     },
     "output_type": "display_data"
    }
   ],
   "source": [
    "%time\n",
    "attr_plot(data, samples)"
   ]
  },
  {
   "cell_type": "code",
   "execution_count": 393,
   "metadata": {},
   "outputs": [],
   "source": [
    "# pickle.dump(model, open('models/GMM_MODEL.pkl', 'wb'))"
   ]
  },
  {
   "cell_type": "code",
   "execution_count": 394,
   "metadata": {},
   "outputs": [],
   "source": [
    "# pickle.dump(transformer, open('models/GMM_TRANSFORMER.pkl', 'wb'))"
   ]
  },
  {
   "cell_type": "code",
   "execution_count": 396,
   "metadata": {},
   "outputs": [
    {
     "data": {
      "text/plain": [
       "Index(['33b_cur', '33b_orig_ord_amt', 'src_xfrr_type', 'src_lon', 'src_lat',\n",
       "       'target_lat', 'target_lon', 'charge_dtls', 'charge_dtls_cur',\n",
       "       'charge_dtls_amt'],\n",
       "      dtype='object')"
      ]
     },
     "execution_count": 396,
     "metadata": {},
     "output_type": "execute_result"
    }
   ],
   "source": [
    "samples.columns"
   ]
  },
  {
   "cell_type": "code",
   "execution_count": 372,
   "metadata": {},
   "outputs": [
    {
     "data": {
      "text/plain": [
       "Index(['32a_val_dt', '33b_cur', '33b_orig_ord_amt', '50a_payor_lon',\n",
       "       '50a_payor_lat', '50f_payor_acct_nm:', '50f_payor_name:',\n",
       "       '50f_payor_add_ln_1', '50f_payor_add_ln_2', '50f_payor_add_lat',\n",
       "       '50f_payor_add_lon', '50k_payor_acct_num:', '50k_payor_name',\n",
       "       '50k_payor_add_ln_1', '50k_payor_add_ln_2', '50k_payor_add_lat',\n",
       "       '50k_payor_add_lon', '59f_ben_acct_num:', '59f_ben_name',\n",
       "       '59f_ben_add_ln_1', '59f_ben_add_ln_2', '59f_ben_add_lat',\n",
       "       '59f_ben_add_lon', '71A_chg_dtls', '71f_chg_dtls_cur',\n",
       "       '71f_chg_dtls_amt'],\n",
       "      dtype='object')"
      ]
     },
     "execution_count": 372,
     "metadata": {},
     "output_type": "execute_result"
    }
   ],
   "source": [
    "df.columns"
   ]
  },
  {
   "cell_type": "code",
   "execution_count": 397,
   "metadata": {},
   "outputs": [],
   "source": [
    "# simple wrapper code around serial_calc to parallelize the work\n",
    "def parallel_calc(df, func, n_core, col):\n",
    "    futs = []\n",
    "    df_split = np.array_split(df, n_core)\n",
    "    # pool = concurrent.futures.ThreadPoolExecutor(max_workers = n_core)\n",
    "    pool = concurrent.futures.ProcessPoolExecutor(max_workers = n_core)\n",
    "    apply_partial = partial(func, col=col)\n",
    "    return pd.concat(pool.map(apply_partial, df_split))"
   ]
  },
  {
   "cell_type": "code",
   "execution_count": 480,
   "metadata": {},
   "outputs": [
    {
     "name": "stdout",
     "output_type": "stream",
     "text": [
      "CPU times: user 0 ns, sys: 41 µs, total: 41 µs\n",
      "Wall time: 44.8 µs\n"
     ]
    }
   ],
   "source": [
    "%%time\n",
    "def _50f_payor_add_ln_2(row, col):\n",
    "    return get_nearest_loc({'latitude' : row[col][1], 'longitude': row[col][2]}, geocodes = COORDS) if row[col][0] == 'F' else ''\n",
    "\n",
    "def proc_50f_payor_add_ln_2(df, col):\n",
    "    apply_partial = partial(_50f_payor_add_ln_2, col=col)\n",
    "    # df['50f_payor_add_ln_2'] = df.apply(apply_partial, axis=1)\n",
    "    # return df\n",
    "    return df.apply(apply_partial, axis=1)\n",
    "\n",
    "###################\n",
    "\n",
    "def _50k_payor_add_ln_2(row, col):\n",
    "    return get_nearest_loc({'latitude' : row[col][1], 'longitude': row[col][2]}, geocodes = COORDS) if row[col][0] == 'K' else ''\n",
    "\n",
    "def proc_50k_payor_add_ln_2(df, col):\n",
    "    apply_partial = partial(_50k_payor_add_ln_2, col=col)\n",
    "    # df['50k_payor_add_ln_2'] = df.apply(apply_partial, axis=1)\n",
    "    # return df\n",
    "    return df.apply(apply_partial, axis=1)\n",
    "\n",
    "##################\n",
    "\n",
    "\n",
    "def _59f_ben_add_ln_2(row, col):\n",
    "    return get_nearest_loc({'latitude' : row[col][1], 'longitude': row[col][2]}, geocodes = COORDS)\n",
    "\n",
    "def proc_59f_ben_add_ln_2(df, col):\n",
    "    apply_partial = partial(_59f_ben_add_ln_2, col=col)\n",
    "    # df['59f_ben_add_ln_2'] = df.apply(apply_partial, axis=1)\n",
    "    # return df\n",
    "    return df.apply(apply_partial, axis=1)\n"
   ]
  },
  {
   "cell_type": "code",
   "execution_count": 447,
   "metadata": {},
   "outputs": [
    {
     "name": "stdout",
     "output_type": "stream",
     "text": [
      "CPU times: user 36.3 ms, sys: 8.72 ms, total: 45 ms\n",
      "Wall time: 44.2 ms\n"
     ]
    }
   ],
   "source": [
    "%%time\n",
    "revert = pd.DataFrame()\n",
    "\n",
    "for col in df.columns:\n",
    "    if col in samples.columns:\n",
    "        revert[col] = samples[col]\n",
    "        \n",
    "revert['50a_payor_lon'] = ''\n",
    "revert['50a_payor_lat'] = ''\n",
    "revert['50f_payor_acct_nm:'] = ''\n",
    "revert['50f_payor_name:'] = ''\n",
    "revert['50f_payor_add_ln_1'] = ''\n",
    "revert['src_xfrr_type'] = samples['src_xfrr_type']"
   ]
  },
  {
   "cell_type": "code",
   "execution_count": 478,
   "metadata": {},
   "outputs": [
    {
     "name": "stdout",
     "output_type": "stream",
     "text": [
      "CPU times: user 385 ms, sys: 267 ms, total: 652 ms\n",
      "Wall time: 1min 9s\n"
     ]
    }
   ],
   "source": [
    "%%time\n",
    "revert['50f_payor_add_ln_2'] = ''\n",
    "revert.loc[revert['src_xfrr_type'] == 'F', '50f_payor_add_ln_2'] = parallel_calc(samples[samples['src_xfrr_type'] == 'F'], \n",
    "                                                                             proc_50f_payor_add_ln_2, 8, \n",
    "                                                                             ['src_xfrr_type', 'src_lat', 'src_lon'])"
   ]
  },
  {
   "cell_type": "code",
   "execution_count": 481,
   "metadata": {},
   "outputs": [
    {
     "name": "stdout",
     "output_type": "stream",
     "text": [
      "CPU times: user 108 ms, sys: 366 µs, total: 108 ms\n",
      "Wall time: 107 ms\n"
     ]
    }
   ],
   "source": [
    "%%time\n",
    "condition = [samples['src_xfrr_type'] == 'F', samples['src_xfrr_type'] != 'F']\n",
    "choice = [samples['src_lat'], 0]\n",
    "revert['50f_payor_add_lat'] = np.select(condition, choice, default = 0)\n",
    "    \n",
    "condition = [samples['src_xfrr_type'] == 'F']\n",
    "choice = [samples['src_lon']]\n",
    "revert['50f_payor_add_lon'] = np.select(condition, choice, default = 0)\n",
    "\n",
    "condition = [samples['src_xfrr_type'] == 'K']\n",
    "choice = [samples['src_lat']]\n",
    "revert['50k_payor_add_lat'] = np.select(condition, choice, default = 0)\n",
    "\n",
    "condition = [samples['src_xfrr_type'] == 'K']\n",
    "choice = [samples['src_lon']]\n",
    "revert['50k_payor_add_lon'] = np.select(condition, choice, default = 0)"
   ]
  },
  {
   "cell_type": "code",
   "execution_count": 483,
   "metadata": {},
   "outputs": [
    {
     "name": "stdout",
     "output_type": "stream",
     "text": [
      "CPU times: user 420 ms, sys: 282 ms, total: 702 ms\n",
      "Wall time: 1min 11s\n"
     ]
    }
   ],
   "source": [
    "%%time\n",
    "revert['50k_payor_add_ln_2'] = ''\n",
    "revert.loc[revert['src_xfrr_type'] == 'K', '50k_payor_add_ln_2'] = parallel_calc(samples[samples['src_xfrr_type'] == 'K'], \n",
    "                                                                        proc_50k_payor_add_ln_2, 8, \n",
    "                                                                        ['src_xfrr_type', 'src_lat', 'src_lon'])"
   ]
  },
  {
   "cell_type": "code",
   "execution_count": 487,
   "metadata": {},
   "outputs": [
    {
     "name": "stdout",
     "output_type": "stream",
     "text": [
      "CPU times: user 529 ms, sys: 255 ms, total: 784 ms\n",
      "Wall time: 2min 54s\n"
     ]
    }
   ],
   "source": [
    "%%time\n",
    "revert['59f_ben_add_ln_2'] = parallel_calc(samples, \n",
    "                             proc_59f_ben_add_ln_2, 8, \n",
    "                             ['src_xfrr_type', 'src_lat', 'src_lon'])"
   ]
  },
  {
   "cell_type": "code",
   "execution_count": 488,
   "metadata": {},
   "outputs": [
    {
     "name": "stdout",
     "output_type": "stream",
     "text": [
      "CPU times: user 8.01 ms, sys: 3.86 ms, total: 11.9 ms\n",
      "Wall time: 11 ms\n"
     ]
    }
   ],
   "source": [
    "%%time\n",
    "revert['59f_ben_add_lat'] = samples['target_lat']\n",
    "revert['59f_ben_add_lon'] = samples['target_lon']\n",
    "revert['71A_chg_dtls'] = samples['charge_dtls']\n",
    "revert['71f_chg_dtls_cur'] = samples['charge_dtls_cur']\n",
    "revert['71f_chg_dtls_amt'] = samples['charge_dtls_amt']"
   ]
  },
  {
   "cell_type": "code",
   "execution_count": 495,
   "metadata": {},
   "outputs": [],
   "source": [
    "revert.drop(revert[revert['50f_payor_add_ln_2'] == 'Invalid geo-coordinates !!'].index,inplace=True)\n",
    "revert.drop(revert[revert['50k_payor_add_ln_2'] == 'Invalid geo-coordinates !!'].index,inplace=True)\n",
    "revert.drop(revert[revert['59f_ben_add_ln_2'] == 'Invalid geo-coordinates !!'].index,inplace=True)"
   ]
  },
  {
   "cell_type": "code",
   "execution_count": 496,
   "metadata": {},
   "outputs": [],
   "source": [
    "revert.drop(revert[revert['33b_orig_ord_amt'] < 0].index, inplace=True)"
   ]
  },
  {
   "cell_type": "code",
   "execution_count": 497,
   "metadata": {},
   "outputs": [
    {
     "data": {
      "text/plain": [
       "(231561, 20)"
      ]
     },
     "execution_count": 497,
     "metadata": {},
     "output_type": "execute_result"
    }
   ],
   "source": [
    "revert.shape"
   ]
  },
  {
   "cell_type": "code",
   "execution_count": 498,
   "metadata": {},
   "outputs": [],
   "source": [
    "revert.to_csv('revert_samples.csv', index=False)"
   ]
  },
  {
   "cell_type": "code",
   "execution_count": null,
   "metadata": {},
   "outputs": [],
   "source": []
  }
 ],
 "metadata": {
  "kernelspec": {
   "display_name": "Python 3",
   "language": "python",
   "name": "python3"
  },
  "language_info": {
   "codemirror_mode": {
    "name": "ipython",
    "version": 3
   },
   "file_extension": ".py",
   "mimetype": "text/x-python",
   "name": "python",
   "nbconvert_exporter": "python",
   "pygments_lexer": "ipython3",
   "version": "3.7.6"
  }
 },
 "nbformat": 4,
 "nbformat_minor": 4
}
