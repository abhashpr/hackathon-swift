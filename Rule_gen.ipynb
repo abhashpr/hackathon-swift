{
 "cells": [
  {
   "cell_type": "code",
   "execution_count": 2,
   "metadata": {},
   "outputs": [
    {
     "name": "stdout",
     "output_type": "stream",
     "text": [
      "Collecting kmodes\n",
      "  Using cached kmodes-0.11.0-py2.py3-none-any.whl (18 kB)\n",
      "Requirement already satisfied: scipy>=0.13.3 in /opt/conda/lib/python3.7/site-packages (from kmodes) (1.4.1)\n",
      "Requirement already satisfied: joblib>=0.11 in /opt/conda/lib/python3.7/site-packages (from kmodes) (0.15.1)\n",
      "Requirement already satisfied: scikit-learn>=0.22.0 in /opt/conda/lib/python3.7/site-packages (from kmodes) (0.22.2.post1)\n",
      "Requirement already satisfied: numpy>=1.10.4 in /opt/conda/lib/python3.7/site-packages (from kmodes) (1.18.5)\n",
      "Installing collected packages: kmodes\n",
      "Successfully installed kmodes-0.11.0\n"
     ]
    }
   ],
   "source": [
    "!pip install kmodes"
   ]
  },
  {
   "cell_type": "code",
   "execution_count": 3,
   "metadata": {},
   "outputs": [],
   "source": [
    "import pandas as pd\n",
    "import matplotlib.pyplot as plt\n",
    "import numpy as np\n",
    "import os\n",
    "import re\n",
    "import pickle\n",
    "import seaborn as sns\n",
    "from kmodes.kmodes import KModes\n",
    "\n",
    "import warnings\n",
    "warnings.filterwarnings(\"ignore\")"
   ]
  },
  {
   "cell_type": "code",
   "execution_count": 6,
   "metadata": {},
   "outputs": [],
   "source": [
    "df = pd.read_csv('../workspace/data/hackathon_parsed_format_a.csv')"
   ]
  },
  {
   "cell_type": "code",
   "execution_count": 7,
   "metadata": {},
   "outputs": [],
   "source": [
    "data = pd.DataFrame()"
   ]
  },
  {
   "cell_type": "code",
   "execution_count": 8,
   "metadata": {},
   "outputs": [],
   "source": [
    "data = df[['33b_cur', '33b_orig_ord_amt']]"
   ]
  },
  {
   "cell_type": "code",
   "execution_count": 9,
   "metadata": {},
   "outputs": [
    {
     "data": {
      "text/plain": [
       "<matplotlib.axes._subplots.AxesSubplot at 0x7f8848f08a10>"
      ]
     },
     "execution_count": 9,
     "metadata": {},
     "output_type": "execute_result"
    },
    {
     "data": {
      "image/png": "[encoded data removed]",
      "text/plain": [
       "<Figure size 432x288 with 1 Axes>"
      ]
     },
     "metadata": {},
     "output_type": "display_data"
    }
   ],
   "source": [
    "sns.boxplot(x=data[\"33b_orig_ord_amt\"])"
   ]
  },
  {
   "cell_type": "code",
   "execution_count": 10,
   "metadata": {},
   "outputs": [
    {
     "data": {
      "text/plain": [
       "<matplotlib.axes._subplots.AxesSubplot at 0x7f88812d5250>"
      ]
     },
     "execution_count": 10,
     "metadata": {},
     "output_type": "execute_result"
    },
    {
     "data": {
      "image/png": "[encoded data removed]",
      "text/plain": [
       "<Figure size 432x288 with 1 Axes>"
      ]
     },
     "metadata": {},
     "output_type": "display_data"
    }
   ],
   "source": [
    "data[\"33b_orig_ord_amt\"].hist()"
   ]
  },
  {
   "cell_type": "code",
   "execution_count": 11,
   "metadata": {},
   "outputs": [],
   "source": [
    "# data['Bank_op_code'] = df['Bank_op_code']       #only 1 category there, CRED"
   ]
  },
  {
   "cell_type": "code",
   "execution_count": 13,
   "metadata": {},
   "outputs": [],
   "source": [
    "conditions = [\n",
    "    df['50f_payor_add_lon'] != \"\",\n",
    "    df[\"50k_payor_add_lon\"] != \"\"]\n",
    "choices = [df[\"50f_payor_add_lon\"], df[\"50k_payor_add_lon\"]]\n",
    "data['src_lon'] = np.select(conditions, choices, default=0)"
   ]
  },
  {
   "cell_type": "code",
   "execution_count": 14,
   "metadata": {},
   "outputs": [],
   "source": [
    "conditions = [\n",
    "    df[\"50f_payor_add_lat\"] != \"\",\n",
    "    df[\"50k_payor_add_lat\"] != \"\"]\n",
    "choices = [df[\"50f_payor_add_lat\"], df[\"50k_payor_add_lat\"]]\n",
    "data[\"src_lat\"] = np.select(conditions, choices, default=0)"
   ]
  },
  {
   "cell_type": "code",
   "execution_count": 15,
   "metadata": {},
   "outputs": [
    {
     "data": {
      "text/plain": [
       "252689"
      ]
     },
     "execution_count": 15,
     "metadata": {},
     "output_type": "execute_result"
    }
   ],
   "source": [
    "data['src_lon'].isna().sum()"
   ]
  },
  {
   "cell_type": "code",
   "execution_count": 16,
   "metadata": {},
   "outputs": [],
   "source": [
    "data['src_lon'].fillna(data['src_lon'].mode()[0], inplace=True)"
   ]
  },
  {
   "cell_type": "code",
   "execution_count": 17,
   "metadata": {},
   "outputs": [
    {
     "data": {
      "text/plain": [
       "252689"
      ]
     },
     "execution_count": 17,
     "metadata": {},
     "output_type": "execute_result"
    }
   ],
   "source": [
    "data[\"src_lat\"].isna().sum()"
   ]
  },
  {
   "cell_type": "code",
   "execution_count": 18,
   "metadata": {},
   "outputs": [],
   "source": [
    "data['src_lat'].fillna(data['src_lat'].mode()[0], inplace=True)"
   ]
  },
  {
   "cell_type": "code",
   "execution_count": 19,
   "metadata": {},
   "outputs": [],
   "source": [
    "data[[\"target_lat\", \"target_lon\"]] = df.loc[:, [\"59f_ben_add_lat\", \"59f_ben_add_lon\"]]"
   ]
  },
  {
   "cell_type": "code",
   "execution_count": 20,
   "metadata": {},
   "outputs": [
    {
     "data": {
      "text/plain": [
       "0"
      ]
     },
     "execution_count": 20,
     "metadata": {},
     "output_type": "execute_result"
    }
   ],
   "source": [
    "data['target_lat'].isna().sum()"
   ]
  },
  {
   "cell_type": "code",
   "execution_count": 21,
   "metadata": {},
   "outputs": [],
   "source": [
    "data['target_lat'].fillna(data['target_lat'].mode()[0], inplace=True)"
   ]
  },
  {
   "cell_type": "code",
   "execution_count": 22,
   "metadata": {},
   "outputs": [
    {
     "data": {
      "text/plain": [
       "0"
      ]
     },
     "execution_count": 22,
     "metadata": {},
     "output_type": "execute_result"
    }
   ],
   "source": [
    "data['target_lon'].isna().sum()"
   ]
  },
  {
   "cell_type": "code",
   "execution_count": 23,
   "metadata": {},
   "outputs": [],
   "source": [
    "data['target_lon'].fillna(data['target_lon'].mode()[0], inplace=True)"
   ]
  },
  {
   "cell_type": "code",
   "execution_count": 24,
   "metadata": {},
   "outputs": [],
   "source": [
    "data[\"charge_dtls\"] = df.loc[:, \"71A_chg_dtls\"]"
   ]
  },
  {
   "cell_type": "code",
   "execution_count": 25,
   "metadata": {},
   "outputs": [
    {
     "data": {
      "text/plain": [
       "0"
      ]
     },
     "execution_count": 25,
     "metadata": {},
     "output_type": "execute_result"
    }
   ],
   "source": [
    "data[\"charge_dtls\"].isna().sum()"
   ]
  },
  {
   "cell_type": "code",
   "execution_count": 26,
   "metadata": {},
   "outputs": [
    {
     "data": {
      "text/plain": [
       "SHA    126538\n",
       "BEN    126506\n",
       "OUR    126482\n",
       "Name: charge_dtls, dtype: int64"
      ]
     },
     "execution_count": 26,
     "metadata": {},
     "output_type": "execute_result"
    }
   ],
   "source": [
    "data[\"charge_dtls\"].value_counts()"
   ]
  },
  {
   "cell_type": "code",
   "execution_count": 27,
   "metadata": {},
   "outputs": [
    {
     "data": {
      "text/plain": [
       "<matplotlib.axes._subplots.AxesSubplot at 0x7f888122be90>"
      ]
     },
     "execution_count": 27,
     "metadata": {},
     "output_type": "execute_result"
    },
    {
     "data": {
      "image/png": "[encoded data removed]",
      "text/plain": [
       "<Figure size 432x288 with 1 Axes>"
      ]
     },
     "metadata": {},
     "output_type": "display_data"
    }
   ],
   "source": [
    "sns.countplot(x=\"charge_dtls\", data=data)"
   ]
  },
  {
   "cell_type": "code",
   "execution_count": 28,
   "metadata": {},
   "outputs": [],
   "source": [
    "data[[\"charge_dtls_cur\", \"charge_dtls_amt\"]] = df.loc[:, [\"71f_chg_dtls_cur\", \"71f_chg_dtls_amt\"]]"
   ]
  },
  {
   "cell_type": "code",
   "execution_count": 29,
   "metadata": {},
   "outputs": [
    {
     "data": {
      "text/plain": [
       "66.66736929749213"
      ]
     },
     "execution_count": 29,
     "metadata": {},
     "output_type": "execute_result"
    }
   ],
   "source": [
    "data[\"charge_dtls_cur\"].isnull().sum()*100/data[\"charge_dtls_cur\"].shape[0]"
   ]
  },
  {
   "cell_type": "code",
   "execution_count": 30,
   "metadata": {},
   "outputs": [
    {
     "data": {
      "image/png": "[encoded data removed]",
      "text/plain": [
       "<Figure size 1080x360 with 1 Axes>"
      ]
     },
     "metadata": {},
     "output_type": "display_data"
    }
   ],
   "source": [
    "plt.figure(figsize = (15, 5))\n",
    "sns.countplot(x=\"charge_dtls_cur\", data=data)\n",
    "plt.tight_layout()"
   ]
  },
  {
   "cell_type": "code",
   "execution_count": 31,
   "metadata": {},
   "outputs": [
    {
     "data": {
      "text/plain": [
       "66.66736929749213"
      ]
     },
     "execution_count": 31,
     "metadata": {},
     "output_type": "execute_result"
    }
   ],
   "source": [
    "data[\"charge_dtls_amt\"].isnull().sum()*100/data[\"charge_dtls_amt\"].shape[0]"
   ]
  },
  {
   "cell_type": "code",
   "execution_count": 32,
   "metadata": {},
   "outputs": [
    {
     "data": {
      "text/plain": [
       "0.0    126506\n",
       "Name: charge_dtls_amt, dtype: int64"
      ]
     },
     "execution_count": 32,
     "metadata": {},
     "output_type": "execute_result"
    }
   ],
   "source": [
    "data[\"charge_dtls_amt\"].value_counts()"
   ]
  },
  {
   "cell_type": "code",
   "execution_count": 33,
   "metadata": {},
   "outputs": [
    {
     "data": {
      "text/plain": [
       "100.0"
      ]
     },
     "execution_count": 33,
     "metadata": {},
     "output_type": "execute_result"
    }
   ],
   "source": [
    "data[data[\"charge_dtls\"] == 'SHA']['charge_dtls_cur'].isna().sum()*100/data[data[\"charge_dtls\"] == 'SHA'].shape[0]"
   ]
  },
  {
   "cell_type": "code",
   "execution_count": 34,
   "metadata": {},
   "outputs": [
    {
     "data": {
      "text/plain": [
       "100.0"
      ]
     },
     "execution_count": 34,
     "metadata": {},
     "output_type": "execute_result"
    }
   ],
   "source": [
    "data[data[\"charge_dtls\"] == 'OUR']['charge_dtls_cur'].isna().sum()*100/data[data[\"charge_dtls\"] == 'OUR'].shape[0]"
   ]
  },
  {
   "cell_type": "code",
   "execution_count": 35,
   "metadata": {},
   "outputs": [
    {
     "data": {
      "text/plain": [
       "0.0"
      ]
     },
     "execution_count": 35,
     "metadata": {},
     "output_type": "execute_result"
    }
   ],
   "source": [
    "data[data[\"charge_dtls\"] == 'BEN']['charge_dtls_cur'].isna().sum()*100/data[data[\"charge_dtls\"] == 'BEN'].shape[0]"
   ]
  },
  {
   "cell_type": "code",
   "execution_count": 36,
   "metadata": {},
   "outputs": [],
   "source": [
    "data[\"charge_dtls_amt\"].fillna(0.0, inplace=True)"
   ]
  },
  {
   "cell_type": "code",
   "execution_count": 37,
   "metadata": {},
   "outputs": [
    {
     "data": {
      "text/plain": [
       "RUB    101854\n",
       "GBP     13014\n",
       "USD      4187\n",
       "PLN      3508\n",
       "HUF       787\n",
       "EUR       740\n",
       "ZAR       571\n",
       "BGN       478\n",
       "RON       263\n",
       "SEK       199\n",
       "CHF       167\n",
       "TRY       120\n",
       "ILS        76\n",
       "MXN        71\n",
       "DKK        63\n",
       "AED        62\n",
       "CZK        58\n",
       "AUD        48\n",
       "CAD        44\n",
       "HKD        32\n",
       "NOK        30\n",
       "THB        24\n",
       "HRK        21\n",
       "SGD        21\n",
       "UGX        16\n",
       "NZD        16\n",
       "JPY        13\n",
       "SAR        11\n",
       "QAR         5\n",
       "CNY         4\n",
       "KWD         1\n",
       "KES         1\n",
       "BHD         1\n",
       "Name: charge_dtls_cur, dtype: int64"
      ]
     },
     "execution_count": 37,
     "metadata": {},
     "output_type": "execute_result"
    }
   ],
   "source": [
    "data[\"charge_dtls_cur\"].value_counts()"
   ]
  },
  {
   "cell_type": "code",
   "execution_count": 38,
   "metadata": {},
   "outputs": [],
   "source": [
    "data[\"charge_dtls_cur\"] = data[\"charge_dtls_cur\"].replace(np.nan, \"999\", regex=True)"
   ]
  },
  {
   "cell_type": "code",
   "execution_count": null,
   "metadata": {},
   "outputs": [],
   "source": []
  },
  {
   "cell_type": "markdown",
   "metadata": {},
   "source": [
    "## Not Using Address"
   ]
  },
  {
   "cell_type": "code",
   "execution_count": 39,
   "metadata": {},
   "outputs": [],
   "source": [
    "# conditions = [\n",
    "#     df['50f_payor_add_ln_2'] != \"\",\n",
    "#     df[\"50k_payor_add_ln_2\"] != \"\"]\n",
    "# choices = [df[\"50f_payor_add_ln_2\"], df[\"50k_payor_add_ln_2\"]]\n",
    "# data['src_add2'] = np.select(conditions, choices, default=0)"
   ]
  },
  {
   "cell_type": "code",
   "execution_count": 40,
   "metadata": {},
   "outputs": [],
   "source": [
    "# conditions = [\n",
    "#     df['50f_payor_add_ln_1'] != \"\",\n",
    "#     df[\"50k_payor_add_ln_1\"] != \"\"]\n",
    "# choices = [df[\"50f_payor_add_ln_1\"], df[\"50k_payor_add_ln_1\"]]\n",
    "# data['src_add1'] = np.select(conditions, choices, default=0)"
   ]
  },
  {
   "cell_type": "code",
   "execution_count": 41,
   "metadata": {},
   "outputs": [],
   "source": [
    "# data['dest_add1'] = df['59f_ben_add_ln_1']"
   ]
  },
  {
   "cell_type": "code",
   "execution_count": 42,
   "metadata": {},
   "outputs": [],
   "source": [
    "# data['dest_add2'] = df['59f_ben_add_ln_2']"
   ]
  },
  {
   "cell_type": "code",
   "execution_count": 43,
   "metadata": {},
   "outputs": [
    {
     "data": {
      "text/html": [
       "<div>\n",
       "<style scoped>\n",
       "    .dataframe tbody tr th:only-of-type {\n",
       "        vertical-align: middle;\n",
       "    }\n",
       "\n",
       "    .dataframe tbody tr th {\n",
       "        vertical-align: top;\n",
       "    }\n",
       "\n",
       "    .dataframe thead th {\n",
       "        text-align: right;\n",
       "    }\n",
       "</style>\n",
       "<table border=\"1\" class=\"dataframe\">\n",
       "  <thead>\n",
       "    <tr style=\"text-align: right;\">\n",
       "      <th></th>\n",
       "      <th>33b_cur</th>\n",
       "      <th>33b_orig_ord_amt</th>\n",
       "      <th>src_lon</th>\n",
       "      <th>src_lat</th>\n",
       "      <th>target_lat</th>\n",
       "      <th>target_lon</th>\n",
       "      <th>charge_dtls</th>\n",
       "      <th>charge_dtls_cur</th>\n",
       "      <th>charge_dtls_amt</th>\n",
       "    </tr>\n",
       "  </thead>\n",
       "  <tbody>\n",
       "    <tr>\n",
       "      <th>0</th>\n",
       "      <td>RUB</td>\n",
       "      <td>1544103.68</td>\n",
       "      <td>-89.383761</td>\n",
       "      <td>43.074761</td>\n",
       "      <td>34.146942</td>\n",
       "      <td>-118.247847</td>\n",
       "      <td>SHA</td>\n",
       "      <td>999</td>\n",
       "      <td>0.0</td>\n",
       "    </tr>\n",
       "    <tr>\n",
       "      <th>1</th>\n",
       "      <td>RUB</td>\n",
       "      <td>912070.95</td>\n",
       "      <td>-89.383761</td>\n",
       "      <td>43.074761</td>\n",
       "      <td>47.566422</td>\n",
       "      <td>-99.650882</td>\n",
       "      <td>BEN</td>\n",
       "      <td>RUB</td>\n",
       "      <td>0.0</td>\n",
       "    </tr>\n",
       "    <tr>\n",
       "      <th>2</th>\n",
       "      <td>RUB</td>\n",
       "      <td>21760302.59</td>\n",
       "      <td>-89.383761</td>\n",
       "      <td>43.074761</td>\n",
       "      <td>42.795605</td>\n",
       "      <td>-110.929451</td>\n",
       "      <td>SHA</td>\n",
       "      <td>999</td>\n",
       "      <td>0.0</td>\n",
       "    </tr>\n",
       "    <tr>\n",
       "      <th>3</th>\n",
       "      <td>RUB</td>\n",
       "      <td>878587.53</td>\n",
       "      <td>-89.383761</td>\n",
       "      <td>43.074761</td>\n",
       "      <td>35.815612</td>\n",
       "      <td>-101.910435</td>\n",
       "      <td>SHA</td>\n",
       "      <td>999</td>\n",
       "      <td>0.0</td>\n",
       "    </tr>\n",
       "    <tr>\n",
       "      <th>4</th>\n",
       "      <td>RUB</td>\n",
       "      <td>6696355.97</td>\n",
       "      <td>-89.383761</td>\n",
       "      <td>43.074761</td>\n",
       "      <td>27.547259</td>\n",
       "      <td>-81.811471</td>\n",
       "      <td>SHA</td>\n",
       "      <td>999</td>\n",
       "      <td>0.0</td>\n",
       "    </tr>\n",
       "  </tbody>\n",
       "</table>\n",
       "</div>"
      ],
      "text/plain": [
       "  33b_cur  33b_orig_ord_amt    src_lon    src_lat  target_lat  target_lon  \\\n",
       "0     RUB        1544103.68 -89.383761  43.074761   34.146942 -118.247847   \n",
       "1     RUB         912070.95 -89.383761  43.074761   47.566422  -99.650882   \n",
       "2     RUB       21760302.59 -89.383761  43.074761   42.795605 -110.929451   \n",
       "3     RUB         878587.53 -89.383761  43.074761   35.815612 -101.910435   \n",
       "4     RUB        6696355.97 -89.383761  43.074761   27.547259  -81.811471   \n",
       "\n",
       "  charge_dtls charge_dtls_cur  charge_dtls_amt  \n",
       "0         SHA             999              0.0  \n",
       "1         BEN             RUB              0.0  \n",
       "2         SHA             999              0.0  \n",
       "3         SHA             999              0.0  \n",
       "4         SHA             999              0.0  "
      ]
     },
     "execution_count": 43,
     "metadata": {},
     "output_type": "execute_result"
    }
   ],
   "source": [
    "data.head()"
   ]
  },
  {
   "cell_type": "code",
   "execution_count": 44,
   "metadata": {},
   "outputs": [],
   "source": [
    "# data[\"charge_dtls_cur\"] = data[\"charge_dtls_cur\"].replace(np.nan, \"999\", regex=True)\n",
    "# data[\"charge_dtls_amt\"] = data[\"charge_dtls_amt\"].replace(np.nan, 0, regex=True)\n",
    "\n",
    "# data[\"target_lat\"] = data[\"target_lat\"].replace(np.nan, 0, regex=True)\n",
    "# data[\"target_lon\"] = data[\"target_lon\"].replace(np.nan, 0, regex=True)\n",
    "# data[\"src_lon\"] = data[\"src_lon\"].replace(np.nan, 0, regex=True)\n",
    "# data[\"src_lat\"] = data[\"src_lat\"].replace(np.nan, 0, regex=True)\n",
    "# data[\"src_add2\"] = data[\"src_add2\"].replace(np.nan, \"999\", regex=True)\n",
    "# data[\"src_add1\"] = data[\"src_add1\"].replace(np.nan, \"999\", regex=True)\n",
    "# data[\"dest_add2\"] = data[\"dest_add2\"].replace(np.nan, \"999\", regex=True)\n",
    "# data[\"dest_add1\"] = data[\"dest_add1\"].replace(np.nan, \"999\", regex=True)"
   ]
  },
  {
   "cell_type": "code",
   "execution_count": 45,
   "metadata": {},
   "outputs": [
    {
     "data": {
      "text/plain": [
       "33b_cur             0.0\n",
       "33b_orig_ord_amt    0.0\n",
       "src_lon             0.0\n",
       "src_lat             0.0\n",
       "target_lat          0.0\n",
       "target_lon          0.0\n",
       "charge_dtls         0.0\n",
       "charge_dtls_cur     0.0\n",
       "charge_dtls_amt     0.0\n",
       "dtype: float64"
      ]
     },
     "execution_count": 45,
     "metadata": {},
     "output_type": "execute_result"
    }
   ],
   "source": [
    "data.isnull().sum()*100/data.shape[0]"
   ]
  },
  {
   "cell_type": "code",
   "execution_count": 46,
   "metadata": {},
   "outputs": [
    {
     "data": {
      "text/plain": [
       "Index(['33b_cur', '33b_orig_ord_amt', 'src_lon', 'src_lat', 'target_lat',\n",
       "       'target_lon', 'charge_dtls', 'charge_dtls_cur', 'charge_dtls_amt'],\n",
       "      dtype='object')"
      ]
     },
     "execution_count": 46,
     "metadata": {},
     "output_type": "execute_result"
    }
   ],
   "source": [
    "data.columns"
   ]
  },
  {
   "cell_type": "code",
   "execution_count": 47,
   "metadata": {},
   "outputs": [
    {
     "data": {
      "text/plain": [
       "(379526, 9)"
      ]
     },
     "execution_count": 47,
     "metadata": {},
     "output_type": "execute_result"
    }
   ],
   "source": [
    "data.shape"
   ]
  },
  {
   "cell_type": "code",
   "execution_count": 48,
   "metadata": {},
   "outputs": [
    {
     "data": {
      "text/plain": [
       "10789"
      ]
     },
     "execution_count": 48,
     "metadata": {},
     "output_type": "execute_result"
    }
   ],
   "source": [
    "data['src_lon'].nunique()"
   ]
  },
  {
   "cell_type": "code",
   "execution_count": 49,
   "metadata": {},
   "outputs": [
    {
     "data": {
      "text/plain": [
       "10787"
      ]
     },
     "execution_count": 49,
     "metadata": {},
     "output_type": "execute_result"
    }
   ],
   "source": [
    "data['src_lat'].nunique()"
   ]
  },
  {
   "cell_type": "code",
   "execution_count": 50,
   "metadata": {},
   "outputs": [
    {
     "data": {
      "text/plain": [
       "10789"
      ]
     },
     "execution_count": 50,
     "metadata": {},
     "output_type": "execute_result"
    }
   ],
   "source": [
    "data['target_lat'].nunique()"
   ]
  },
  {
   "cell_type": "code",
   "execution_count": 51,
   "metadata": {},
   "outputs": [
    {
     "data": {
      "text/plain": [
       "10791"
      ]
     },
     "execution_count": 51,
     "metadata": {},
     "output_type": "execute_result"
    }
   ],
   "source": [
    "data['target_lon'].nunique()"
   ]
  },
  {
   "cell_type": "code",
   "execution_count": 52,
   "metadata": {},
   "outputs": [
    {
     "data": {
      "text/plain": [
       "35.23591124315291"
      ]
     },
     "execution_count": 52,
     "metadata": {},
     "output_type": "execute_result"
    }
   ],
   "source": [
    "379526/10771"
   ]
  },
  {
   "cell_type": "code",
   "execution_count": 53,
   "metadata": {},
   "outputs": [],
   "source": [
    "data['src_lat_bin'] = pd.cut(data['src_lat'], [-71, -65, -60, -55, -50, -45, -40, -35, -30, -25, -20, -15, -10, -5, 0, 5, 10, 15, 20, 25, 30, 35, 40, 45, 50, 55, 60, 65, 72], \n",
    "                              labels=['-71 -- -65', '-65 -- -60', '-60 -- -55', '-55 -- -50', '-50 -- -45', '-45 -- -40', '-40 -- -35', '-35 -- -30', '-30 -- -25', '-25 -- -20', '-20 -- -15', '-15 -- -10', '-10 -- -5', '-5 -- 0', '0 - 5', '5-10', '10-15', '15-20', '20-25', '25-30', '30-35', '35-40', '40-45', '45-50', '50-55', '55-60', '60-65', '65-72'])"
   ]
  },
  {
   "cell_type": "code",
   "execution_count": 54,
   "metadata": {},
   "outputs": [],
   "source": [
    "data['target_lat_bin'] = pd.cut(data['target_lat'], [-71, -65, -60, -55, -50, -45, -40, -35, -30, -25, -20, -15, -10, -5, 0, 5, 10, 15, 20, 25, 30, 35, 40, 45, 50, 55, 60, 65, 72], \n",
    "                              labels=['-71 -- -65', '-65 -- -60', '-60 -- -55', '-55 -- -50', '-50 -- -45', '-45 -- -40', '-40 -- -35', '-35 -- -30', '-30 -- -25', '-25 -- -20', '-20 -- -15', '-15 -- -10', '-10 -- -5', '-5 -- 0', '0 - 5', '5-10', '10-15', '15-20', '20-25', '25-30', '30-35', '35-40', '40-45', '45-50', '50-55', '55-60', '60-65', '65-72'])"
   ]
  },
  {
   "cell_type": "code",
   "execution_count": 55,
   "metadata": {},
   "outputs": [],
   "source": [
    "data['src_lon_bin'] = pd.cut(data['src_lon'], [-171, -160, -150, -140, -130, -120, -110, -100, -90, -80, -70, -60, -50, -40, -30, -20, -10, 0, 10, 20, 30, 40, 50, 60, 70, 80, 90, 100, 110, 120, 130, 140, 154], \n",
    "                              labels=['-171 -- -160', '-160 -- -150', '-150 -- -140', '-140 -- -130', '-130 -- -120', '-120 -- -110', '-110 -- -100', '-100 -- -90', '-90 -- -80', '-80 -- -70', '-70 -- -60', '-60 -- -50', '-50 -- -40', '-40 -- -30', '-30 -- -20', '-20 -- -10', '-10-0', '0-10', '10-20', '20-30', '30-40', '40-50', '50-60', '60-70', '70-80', '80-90', '90-100', '100-110', '110-120', '120-130', '130-140', '140-154'])"
   ]
  },
  {
   "cell_type": "code",
   "execution_count": 56,
   "metadata": {},
   "outputs": [],
   "source": [
    "data['target_lon_bin'] = pd.cut(data['target_lon'], [-171, -160, -150, -140, -130, -120, -110, -100, -90, -80, -70, -60, -50, -40, -30, -20, -10, 0, 10, 20, 30, 40, 50, 60, 70, 80, 90, 100, 110, 120, 130, 140, 154], \n",
    "                              labels=['-171 -- -160', '-160 -- -150', '-150 -- -140', '-140 -- -130', '-130 -- -120', '-120 -- -110', '-110 -- -100', '-100 -- -90', '-90 -- -80', '-80 -- -70', '-70 -- -60', '-60 -- -50', '-50 -- -40', '-40 -- -30', '-30 -- -20', '-20 -- -10', '-10-0', '0-10', '10-20', '20-30', '30-40', '40-50', '50-60', '60-70', '70-80', '80-90', '90-100', '100-110', '110-120', '120-130', '130-140', '140-154'])"
   ]
  },
  {
   "cell_type": "code",
   "execution_count": 57,
   "metadata": {},
   "outputs": [
    {
     "data": {
      "text/html": [
       "<div>\n",
       "<style scoped>\n",
       "    .dataframe tbody tr th:only-of-type {\n",
       "        vertical-align: middle;\n",
       "    }\n",
       "\n",
       "    .dataframe tbody tr th {\n",
       "        vertical-align: top;\n",
       "    }\n",
       "\n",
       "    .dataframe thead th {\n",
       "        text-align: right;\n",
       "    }\n",
       "</style>\n",
       "<table border=\"1\" class=\"dataframe\">\n",
       "  <thead>\n",
       "    <tr style=\"text-align: right;\">\n",
       "      <th></th>\n",
       "      <th>src_lat_bin</th>\n",
       "      <th>src_lat</th>\n",
       "    </tr>\n",
       "  </thead>\n",
       "  <tbody>\n",
       "    <tr>\n",
       "      <th>379519</th>\n",
       "      <td>40-45</td>\n",
       "      <td>43.074761</td>\n",
       "    </tr>\n",
       "    <tr>\n",
       "      <th>379521</th>\n",
       "      <td>40-45</td>\n",
       "      <td>43.074761</td>\n",
       "    </tr>\n",
       "    <tr>\n",
       "      <th>379522</th>\n",
       "      <td>40-45</td>\n",
       "      <td>40.808886</td>\n",
       "    </tr>\n",
       "    <tr>\n",
       "      <th>379524</th>\n",
       "      <td>40-45</td>\n",
       "      <td>43.074761</td>\n",
       "    </tr>\n",
       "    <tr>\n",
       "      <th>379525</th>\n",
       "      <td>40-45</td>\n",
       "      <td>43.074761</td>\n",
       "    </tr>\n",
       "  </tbody>\n",
       "</table>\n",
       "</div>"
      ],
      "text/plain": [
       "       src_lat_bin    src_lat\n",
       "379519       40-45  43.074761\n",
       "379521       40-45  43.074761\n",
       "379522       40-45  40.808886\n",
       "379524       40-45  43.074761\n",
       "379525       40-45  43.074761"
      ]
     },
     "execution_count": 57,
     "metadata": {},
     "output_type": "execute_result"
    }
   ],
   "source": [
    "data[data['src_lat_bin'] == '40-45' ][['src_lat_bin', 'src_lat']].tail()"
   ]
  },
  {
   "cell_type": "code",
   "execution_count": 58,
   "metadata": {},
   "outputs": [
    {
     "data": {
      "text/html": [
       "<div>\n",
       "<style scoped>\n",
       "    .dataframe tbody tr th:only-of-type {\n",
       "        vertical-align: middle;\n",
       "    }\n",
       "\n",
       "    .dataframe tbody tr th {\n",
       "        vertical-align: top;\n",
       "    }\n",
       "\n",
       "    .dataframe thead th {\n",
       "        text-align: right;\n",
       "    }\n",
       "</style>\n",
       "<table border=\"1\" class=\"dataframe\">\n",
       "  <thead>\n",
       "    <tr style=\"text-align: right;\">\n",
       "      <th></th>\n",
       "      <th>target_lat_bin</th>\n",
       "      <th>target_lat</th>\n",
       "    </tr>\n",
       "  </thead>\n",
       "  <tbody>\n",
       "    <tr>\n",
       "      <th>371126</th>\n",
       "      <td>-30 -- -25</td>\n",
       "      <td>-25.966213</td>\n",
       "    </tr>\n",
       "    <tr>\n",
       "      <th>372547</th>\n",
       "      <td>-30 -- -25</td>\n",
       "      <td>-25.745937</td>\n",
       "    </tr>\n",
       "    <tr>\n",
       "      <th>373383</th>\n",
       "      <td>-30 -- -25</td>\n",
       "      <td>-25.966213</td>\n",
       "    </tr>\n",
       "    <tr>\n",
       "      <th>377068</th>\n",
       "      <td>-30 -- -25</td>\n",
       "      <td>-25.429596</td>\n",
       "    </tr>\n",
       "    <tr>\n",
       "      <th>378289</th>\n",
       "      <td>-30 -- -25</td>\n",
       "      <td>-26.205000</td>\n",
       "    </tr>\n",
       "  </tbody>\n",
       "</table>\n",
       "</div>"
      ],
      "text/plain": [
       "       target_lat_bin  target_lat\n",
       "371126     -30 -- -25  -25.966213\n",
       "372547     -30 -- -25  -25.745937\n",
       "373383     -30 -- -25  -25.966213\n",
       "377068     -30 -- -25  -25.429596\n",
       "378289     -30 -- -25  -26.205000"
      ]
     },
     "execution_count": 58,
     "metadata": {},
     "output_type": "execute_result"
    }
   ],
   "source": [
    "data[data['target_lat_bin'] == '-30 -- -25' ][['target_lat_bin', 'target_lat']].tail()"
   ]
  },
  {
   "cell_type": "code",
   "execution_count": 59,
   "metadata": {},
   "outputs": [
    {
     "data": {
      "text/plain": [
       "-90 -- -80      284291\n",
       "-100 -- -90      36346\n",
       "-80 -- -70       30603\n",
       "-120 -- -110      8741\n",
       "-110 -- -100      7600\n",
       "-130 -- -120      7119\n",
       "-70 -- -60        1485\n",
       "-160 -- -150       531\n",
       "-150 -- -140       246\n",
       "110-120            242\n",
       "70-80              242\n",
       "30-40              224\n",
       "10-20              220\n",
       "120-130            196\n",
       "0-10               145\n",
       "40-50              138\n",
       "-171 -- -160       131\n",
       "-140 -- -130       126\n",
       "20-30              125\n",
       "-10-0              122\n",
       "100-110            117\n",
       "130-140             94\n",
       "80-90               92\n",
       "-50 -- -40          62\n",
       "50-60               59\n",
       "60-70               57\n",
       "140-154             52\n",
       "90-100              35\n",
       "-60 -- -50          29\n",
       "-40 -- -30          28\n",
       "-20 -- -10          28\n",
       "-30 -- -20           0\n",
       "Name: src_lon_bin, dtype: int64"
      ]
     },
     "execution_count": 59,
     "metadata": {},
     "output_type": "execute_result"
    }
   ],
   "source": [
    "data['src_lon_bin'].value_counts()"
   ]
  },
  {
   "cell_type": "code",
   "execution_count": 60,
   "metadata": {},
   "outputs": [
    {
     "data": {
      "text/plain": [
       "-100 -- -90     107985\n",
       "-90 -- -80       95134\n",
       "-80 -- -70       91983\n",
       "-120 -- -110     25430\n",
       "-110 -- -100     22998\n",
       "-130 -- -120     21802\n",
       "-70 -- -60        4469\n",
       "-160 -- -150      1589\n",
       "-150 -- -140       712\n",
       "110-120            665\n",
       "70-80              657\n",
       "30-40              633\n",
       "120-130            627\n",
       "10-20              619\n",
       "0-10               424\n",
       "-171 -- -160       413\n",
       "-140 -- -130       374\n",
       "100-110            370\n",
       "-10-0              366\n",
       "40-50              362\n",
       "20-30              360\n",
       "80-90              275\n",
       "130-140            272\n",
       "-50 -- -40         197\n",
       "50-60              158\n",
       "60-70              152\n",
       "140-154            148\n",
       "-60 -- -50         125\n",
       "-40 -- -30          81\n",
       "90-100              79\n",
       "-20 -- -10          67\n",
       "-30 -- -20           0\n",
       "Name: target_lon_bin, dtype: int64"
      ]
     },
     "execution_count": 60,
     "metadata": {},
     "output_type": "execute_result"
    }
   ],
   "source": [
    "data['target_lon_bin'].value_counts()"
   ]
  },
  {
   "cell_type": "code",
   "execution_count": 61,
   "metadata": {},
   "outputs": [
    {
     "data": {
      "text/html": [
       "<div>\n",
       "<style scoped>\n",
       "    .dataframe tbody tr th:only-of-type {\n",
       "        vertical-align: middle;\n",
       "    }\n",
       "\n",
       "    .dataframe tbody tr th {\n",
       "        vertical-align: top;\n",
       "    }\n",
       "\n",
       "    .dataframe thead th {\n",
       "        text-align: right;\n",
       "    }\n",
       "</style>\n",
       "<table border=\"1\" class=\"dataframe\">\n",
       "  <thead>\n",
       "    <tr style=\"text-align: right;\">\n",
       "      <th></th>\n",
       "      <th>33b_cur</th>\n",
       "      <th>33b_orig_ord_amt</th>\n",
       "      <th>src_lon</th>\n",
       "      <th>src_lat</th>\n",
       "      <th>target_lat</th>\n",
       "      <th>target_lon</th>\n",
       "      <th>charge_dtls</th>\n",
       "      <th>charge_dtls_cur</th>\n",
       "      <th>charge_dtls_amt</th>\n",
       "      <th>src_lat_bin</th>\n",
       "      <th>target_lat_bin</th>\n",
       "      <th>src_lon_bin</th>\n",
       "      <th>target_lon_bin</th>\n",
       "    </tr>\n",
       "  </thead>\n",
       "  <tbody>\n",
       "    <tr>\n",
       "      <th>0</th>\n",
       "      <td>RUB</td>\n",
       "      <td>1544103.68</td>\n",
       "      <td>-89.383761</td>\n",
       "      <td>43.074761</td>\n",
       "      <td>34.146942</td>\n",
       "      <td>-118.247847</td>\n",
       "      <td>SHA</td>\n",
       "      <td>999</td>\n",
       "      <td>0.0</td>\n",
       "      <td>40-45</td>\n",
       "      <td>30-35</td>\n",
       "      <td>-90 -- -80</td>\n",
       "      <td>-120 -- -110</td>\n",
       "    </tr>\n",
       "    <tr>\n",
       "      <th>1</th>\n",
       "      <td>RUB</td>\n",
       "      <td>912070.95</td>\n",
       "      <td>-89.383761</td>\n",
       "      <td>43.074761</td>\n",
       "      <td>47.566422</td>\n",
       "      <td>-99.650882</td>\n",
       "      <td>BEN</td>\n",
       "      <td>RUB</td>\n",
       "      <td>0.0</td>\n",
       "      <td>40-45</td>\n",
       "      <td>45-50</td>\n",
       "      <td>-90 -- -80</td>\n",
       "      <td>-100 -- -90</td>\n",
       "    </tr>\n",
       "    <tr>\n",
       "      <th>2</th>\n",
       "      <td>RUB</td>\n",
       "      <td>21760302.59</td>\n",
       "      <td>-89.383761</td>\n",
       "      <td>43.074761</td>\n",
       "      <td>42.795605</td>\n",
       "      <td>-110.929451</td>\n",
       "      <td>SHA</td>\n",
       "      <td>999</td>\n",
       "      <td>0.0</td>\n",
       "      <td>40-45</td>\n",
       "      <td>40-45</td>\n",
       "      <td>-90 -- -80</td>\n",
       "      <td>-120 -- -110</td>\n",
       "    </tr>\n",
       "    <tr>\n",
       "      <th>3</th>\n",
       "      <td>RUB</td>\n",
       "      <td>878587.53</td>\n",
       "      <td>-89.383761</td>\n",
       "      <td>43.074761</td>\n",
       "      <td>35.815612</td>\n",
       "      <td>-101.910435</td>\n",
       "      <td>SHA</td>\n",
       "      <td>999</td>\n",
       "      <td>0.0</td>\n",
       "      <td>40-45</td>\n",
       "      <td>35-40</td>\n",
       "      <td>-90 -- -80</td>\n",
       "      <td>-110 -- -100</td>\n",
       "    </tr>\n",
       "    <tr>\n",
       "      <th>4</th>\n",
       "      <td>RUB</td>\n",
       "      <td>6696355.97</td>\n",
       "      <td>-89.383761</td>\n",
       "      <td>43.074761</td>\n",
       "      <td>27.547259</td>\n",
       "      <td>-81.811471</td>\n",
       "      <td>SHA</td>\n",
       "      <td>999</td>\n",
       "      <td>0.0</td>\n",
       "      <td>40-45</td>\n",
       "      <td>25-30</td>\n",
       "      <td>-90 -- -80</td>\n",
       "      <td>-90 -- -80</td>\n",
       "    </tr>\n",
       "  </tbody>\n",
       "</table>\n",
       "</div>"
      ],
      "text/plain": [
       "  33b_cur  33b_orig_ord_amt    src_lon    src_lat  target_lat  target_lon  \\\n",
       "0     RUB        1544103.68 -89.383761  43.074761   34.146942 -118.247847   \n",
       "1     RUB         912070.95 -89.383761  43.074761   47.566422  -99.650882   \n",
       "2     RUB       21760302.59 -89.383761  43.074761   42.795605 -110.929451   \n",
       "3     RUB         878587.53 -89.383761  43.074761   35.815612 -101.910435   \n",
       "4     RUB        6696355.97 -89.383761  43.074761   27.547259  -81.811471   \n",
       "\n",
       "  charge_dtls charge_dtls_cur  charge_dtls_amt src_lat_bin target_lat_bin  \\\n",
       "0         SHA             999              0.0       40-45          30-35   \n",
       "1         BEN             RUB              0.0       40-45          45-50   \n",
       "2         SHA             999              0.0       40-45          40-45   \n",
       "3         SHA             999              0.0       40-45          35-40   \n",
       "4         SHA             999              0.0       40-45          25-30   \n",
       "\n",
       "  src_lon_bin target_lon_bin  \n",
       "0  -90 -- -80   -120 -- -110  \n",
       "1  -90 -- -80    -100 -- -90  \n",
       "2  -90 -- -80   -120 -- -110  \n",
       "3  -90 -- -80   -110 -- -100  \n",
       "4  -90 -- -80     -90 -- -80  "
      ]
     },
     "execution_count": 61,
     "metadata": {},
     "output_type": "execute_result"
    }
   ],
   "source": [
    "data.head()"
   ]
  },
  {
   "cell_type": "code",
   "execution_count": 62,
   "metadata": {},
   "outputs": [],
   "source": [
    "data_cpy = data.copy()"
   ]
  },
  {
   "cell_type": "code",
   "execution_count": 63,
   "metadata": {},
   "outputs": [
    {
     "data": {
      "text/plain": [
       "Index(['33b_cur', '33b_orig_ord_amt', 'src_lon', 'src_lat', 'target_lat',\n",
       "       'target_lon', 'charge_dtls', 'charge_dtls_cur', 'charge_dtls_amt',\n",
       "       'src_lat_bin', 'target_lat_bin', 'src_lon_bin', 'target_lon_bin'],\n",
       "      dtype='object')"
      ]
     },
     "execution_count": 63,
     "metadata": {},
     "output_type": "execute_result"
    }
   ],
   "source": [
    "data.columns"
   ]
  },
  {
   "cell_type": "code",
   "execution_count": 64,
   "metadata": {},
   "outputs": [],
   "source": [
    "data_cpy = data_cpy[['33b_cur', 'charge_dtls', 'charge_dtls_cur', 'src_lat_bin', 'src_lon_bin', 'target_lat_bin', 'target_lon_bin']]"
   ]
  },
  {
   "cell_type": "code",
   "execution_count": 65,
   "metadata": {},
   "outputs": [
    {
     "data": {
      "text/html": [
       "<div>\n",
       "<style scoped>\n",
       "    .dataframe tbody tr th:only-of-type {\n",
       "        vertical-align: middle;\n",
       "    }\n",
       "\n",
       "    .dataframe tbody tr th {\n",
       "        vertical-align: top;\n",
       "    }\n",
       "\n",
       "    .dataframe thead th {\n",
       "        text-align: right;\n",
       "    }\n",
       "</style>\n",
       "<table border=\"1\" class=\"dataframe\">\n",
       "  <thead>\n",
       "    <tr style=\"text-align: right;\">\n",
       "      <th></th>\n",
       "      <th>33b_cur</th>\n",
       "      <th>charge_dtls</th>\n",
       "      <th>charge_dtls_cur</th>\n",
       "      <th>src_lat_bin</th>\n",
       "      <th>src_lon_bin</th>\n",
       "      <th>target_lat_bin</th>\n",
       "      <th>target_lon_bin</th>\n",
       "    </tr>\n",
       "  </thead>\n",
       "  <tbody>\n",
       "    <tr>\n",
       "      <th>0</th>\n",
       "      <td>RUB</td>\n",
       "      <td>SHA</td>\n",
       "      <td>999</td>\n",
       "      <td>40-45</td>\n",
       "      <td>-90 -- -80</td>\n",
       "      <td>30-35</td>\n",
       "      <td>-120 -- -110</td>\n",
       "    </tr>\n",
       "    <tr>\n",
       "      <th>1</th>\n",
       "      <td>RUB</td>\n",
       "      <td>BEN</td>\n",
       "      <td>RUB</td>\n",
       "      <td>40-45</td>\n",
       "      <td>-90 -- -80</td>\n",
       "      <td>45-50</td>\n",
       "      <td>-100 -- -90</td>\n",
       "    </tr>\n",
       "    <tr>\n",
       "      <th>2</th>\n",
       "      <td>RUB</td>\n",
       "      <td>SHA</td>\n",
       "      <td>999</td>\n",
       "      <td>40-45</td>\n",
       "      <td>-90 -- -80</td>\n",
       "      <td>40-45</td>\n",
       "      <td>-120 -- -110</td>\n",
       "    </tr>\n",
       "    <tr>\n",
       "      <th>3</th>\n",
       "      <td>RUB</td>\n",
       "      <td>SHA</td>\n",
       "      <td>999</td>\n",
       "      <td>40-45</td>\n",
       "      <td>-90 -- -80</td>\n",
       "      <td>35-40</td>\n",
       "      <td>-110 -- -100</td>\n",
       "    </tr>\n",
       "    <tr>\n",
       "      <th>4</th>\n",
       "      <td>RUB</td>\n",
       "      <td>SHA</td>\n",
       "      <td>999</td>\n",
       "      <td>40-45</td>\n",
       "      <td>-90 -- -80</td>\n",
       "      <td>25-30</td>\n",
       "      <td>-90 -- -80</td>\n",
       "    </tr>\n",
       "    <tr>\n",
       "      <th>...</th>\n",
       "      <td>...</td>\n",
       "      <td>...</td>\n",
       "      <td>...</td>\n",
       "      <td>...</td>\n",
       "      <td>...</td>\n",
       "      <td>...</td>\n",
       "      <td>...</td>\n",
       "    </tr>\n",
       "    <tr>\n",
       "      <th>379521</th>\n",
       "      <td>USD</td>\n",
       "      <td>SHA</td>\n",
       "      <td>999</td>\n",
       "      <td>40-45</td>\n",
       "      <td>-90 -- -80</td>\n",
       "      <td>35-40</td>\n",
       "      <td>-130 -- -120</td>\n",
       "    </tr>\n",
       "    <tr>\n",
       "      <th>379522</th>\n",
       "      <td>USD</td>\n",
       "      <td>BEN</td>\n",
       "      <td>USD</td>\n",
       "      <td>40-45</td>\n",
       "      <td>-100 -- -90</td>\n",
       "      <td>35-40</td>\n",
       "      <td>-80 -- -70</td>\n",
       "    </tr>\n",
       "    <tr>\n",
       "      <th>379523</th>\n",
       "      <td>USD</td>\n",
       "      <td>OUR</td>\n",
       "      <td>999</td>\n",
       "      <td>35-40</td>\n",
       "      <td>-90 -- -80</td>\n",
       "      <td>35-40</td>\n",
       "      <td>-110 -- -100</td>\n",
       "    </tr>\n",
       "    <tr>\n",
       "      <th>379524</th>\n",
       "      <td>USD</td>\n",
       "      <td>SHA</td>\n",
       "      <td>999</td>\n",
       "      <td>40-45</td>\n",
       "      <td>-90 -- -80</td>\n",
       "      <td>40-45</td>\n",
       "      <td>-110 -- -100</td>\n",
       "    </tr>\n",
       "    <tr>\n",
       "      <th>379525</th>\n",
       "      <td>USD</td>\n",
       "      <td>BEN</td>\n",
       "      <td>USD</td>\n",
       "      <td>40-45</td>\n",
       "      <td>-90 -- -80</td>\n",
       "      <td>35-40</td>\n",
       "      <td>-90 -- -80</td>\n",
       "    </tr>\n",
       "  </tbody>\n",
       "</table>\n",
       "<p>379526 rows × 7 columns</p>\n",
       "</div>"
      ],
      "text/plain": [
       "       33b_cur charge_dtls charge_dtls_cur src_lat_bin  src_lon_bin  \\\n",
       "0          RUB         SHA             999       40-45   -90 -- -80   \n",
       "1          RUB         BEN             RUB       40-45   -90 -- -80   \n",
       "2          RUB         SHA             999       40-45   -90 -- -80   \n",
       "3          RUB         SHA             999       40-45   -90 -- -80   \n",
       "4          RUB         SHA             999       40-45   -90 -- -80   \n",
       "...        ...         ...             ...         ...          ...   \n",
       "379521     USD         SHA             999       40-45   -90 -- -80   \n",
       "379522     USD         BEN             USD       40-45  -100 -- -90   \n",
       "379523     USD         OUR             999       35-40   -90 -- -80   \n",
       "379524     USD         SHA             999       40-45   -90 -- -80   \n",
       "379525     USD         BEN             USD       40-45   -90 -- -80   \n",
       "\n",
       "       target_lat_bin target_lon_bin  \n",
       "0               30-35   -120 -- -110  \n",
       "1               45-50    -100 -- -90  \n",
       "2               40-45   -120 -- -110  \n",
       "3               35-40   -110 -- -100  \n",
       "4               25-30     -90 -- -80  \n",
       "...               ...            ...  \n",
       "379521          35-40   -130 -- -120  \n",
       "379522          35-40     -80 -- -70  \n",
       "379523          35-40   -110 -- -100  \n",
       "379524          40-45   -110 -- -100  \n",
       "379525          35-40     -90 -- -80  \n",
       "\n",
       "[379526 rows x 7 columns]"
      ]
     },
     "execution_count": 65,
     "metadata": {},
     "output_type": "execute_result"
    }
   ],
   "source": [
    "data_cpy"
   ]
  },
  {
   "cell_type": "code",
   "execution_count": 66,
   "metadata": {},
   "outputs": [],
   "source": [
    "# from sklearn import preprocessing\n",
    "# le = preprocessing.LabelEncoder()\n",
    "# data_cpy = data_cpy.apply(le.fit_transform)\n",
    "# data_cpy.head()"
   ]
  },
  {
   "cell_type": "code",
   "execution_count": 67,
   "metadata": {},
   "outputs": [],
   "source": [
    "# cost = []\n",
    "# for num_clusters in range(1,20):\n",
    "#     kmode = KModes(n_clusters=num_clusters, init = \"Cao\", n_init = 5, verbose=0)\n",
    "#     kmode.fit_predict(data_cpy)\n",
    "#     cost.append(kmode.cost_)"
   ]
  },
  {
   "cell_type": "code",
   "execution_count": 68,
   "metadata": {},
   "outputs": [],
   "source": [
    "# plt.figure(figsize=(15,5))\n",
    "# y = np.array([i for i in range(1,20,1)])\n",
    "# plt.plot(y,cost)"
   ]
  },
  {
   "cell_type": "code",
   "execution_count": 69,
   "metadata": {},
   "outputs": [],
   "source": [
    "kmode = KModes(n_clusters=5, init = \"Cao\", n_init = 5, verbose=0)\n",
    "clusters = kmode.fit_predict(data_cpy)"
   ]
  },
  {
   "cell_type": "code",
   "execution_count": 70,
   "metadata": {},
   "outputs": [
    {
     "data": {
      "text/plain": [
       "array([0, 1, 0, ..., 2, 0, 1], dtype=uint16)"
      ]
     },
     "execution_count": 70,
     "metadata": {},
     "output_type": "execute_result"
    }
   ],
   "source": [
    "clusters"
   ]
  },
  {
   "cell_type": "code",
   "execution_count": 71,
   "metadata": {},
   "outputs": [],
   "source": [
    "clusterCentroids = pd.DataFrame(kmode.cluster_centroids_)\n",
    "clusterCentroids.columns = data_cpy.columns"
   ]
  },
  {
   "cell_type": "code",
   "execution_count": 72,
   "metadata": {},
   "outputs": [
    {
     "data": {
      "text/html": [
       "<div>\n",
       "<style scoped>\n",
       "    .dataframe tbody tr th:only-of-type {\n",
       "        vertical-align: middle;\n",
       "    }\n",
       "\n",
       "    .dataframe tbody tr th {\n",
       "        vertical-align: top;\n",
       "    }\n",
       "\n",
       "    .dataframe thead th {\n",
       "        text-align: right;\n",
       "    }\n",
       "</style>\n",
       "<table border=\"1\" class=\"dataframe\">\n",
       "  <thead>\n",
       "    <tr style=\"text-align: right;\">\n",
       "      <th></th>\n",
       "      <th>33b_cur</th>\n",
       "      <th>charge_dtls</th>\n",
       "      <th>charge_dtls_cur</th>\n",
       "      <th>src_lat_bin</th>\n",
       "      <th>src_lon_bin</th>\n",
       "      <th>target_lat_bin</th>\n",
       "      <th>target_lon_bin</th>\n",
       "    </tr>\n",
       "  </thead>\n",
       "  <tbody>\n",
       "    <tr>\n",
       "      <th>0</th>\n",
       "      <td>RUB</td>\n",
       "      <td>SHA</td>\n",
       "      <td>999</td>\n",
       "      <td>40-45</td>\n",
       "      <td>-90 -- -80</td>\n",
       "      <td>40-45</td>\n",
       "      <td>-100 -- -90</td>\n",
       "    </tr>\n",
       "    <tr>\n",
       "      <th>1</th>\n",
       "      <td>RUB</td>\n",
       "      <td>BEN</td>\n",
       "      <td>RUB</td>\n",
       "      <td>40-45</td>\n",
       "      <td>-90 -- -80</td>\n",
       "      <td>35-40</td>\n",
       "      <td>-90 -- -80</td>\n",
       "    </tr>\n",
       "    <tr>\n",
       "      <th>2</th>\n",
       "      <td>RUB</td>\n",
       "      <td>OUR</td>\n",
       "      <td>999</td>\n",
       "      <td>40-45</td>\n",
       "      <td>-90 -- -80</td>\n",
       "      <td>35-40</td>\n",
       "      <td>-80 -- -70</td>\n",
       "    </tr>\n",
       "    <tr>\n",
       "      <th>3</th>\n",
       "      <td>GBP</td>\n",
       "      <td>OUR</td>\n",
       "      <td>999</td>\n",
       "      <td>40-45</td>\n",
       "      <td>-90 -- -80</td>\n",
       "      <td>30-35</td>\n",
       "      <td>-90 -- -80</td>\n",
       "    </tr>\n",
       "    <tr>\n",
       "      <th>4</th>\n",
       "      <td>RUB</td>\n",
       "      <td>BEN</td>\n",
       "      <td>RUB</td>\n",
       "      <td>40-45</td>\n",
       "      <td>-90 -- -80</td>\n",
       "      <td>40-45</td>\n",
       "      <td>-80 -- -70</td>\n",
       "    </tr>\n",
       "  </tbody>\n",
       "</table>\n",
       "</div>"
      ],
      "text/plain": [
       "  33b_cur charge_dtls charge_dtls_cur src_lat_bin src_lon_bin target_lat_bin  \\\n",
       "0     RUB         SHA             999       40-45  -90 -- -80          40-45   \n",
       "1     RUB         BEN             RUB       40-45  -90 -- -80          35-40   \n",
       "2     RUB         OUR             999       40-45  -90 -- -80          35-40   \n",
       "3     GBP         OUR             999       40-45  -90 -- -80          30-35   \n",
       "4     RUB         BEN             RUB       40-45  -90 -- -80          40-45   \n",
       "\n",
       "  target_lon_bin  \n",
       "0    -100 -- -90  \n",
       "1     -90 -- -80  \n",
       "2     -80 -- -70  \n",
       "3     -90 -- -80  \n",
       "4     -80 -- -70  "
      ]
     },
     "execution_count": 72,
     "metadata": {},
     "output_type": "execute_result"
    }
   ],
   "source": [
    "clusterCentroids"
   ]
  },
  {
   "cell_type": "code",
   "execution_count": 73,
   "metadata": {},
   "outputs": [],
   "source": [
    "data.insert(0, \"Clusters\", clusters, True)"
   ]
  },
  {
   "cell_type": "code",
   "execution_count": 74,
   "metadata": {},
   "outputs": [
    {
     "data": {
      "text/html": [
       "<div>\n",
       "<style scoped>\n",
       "    .dataframe tbody tr th:only-of-type {\n",
       "        vertical-align: middle;\n",
       "    }\n",
       "\n",
       "    .dataframe tbody tr th {\n",
       "        vertical-align: top;\n",
       "    }\n",
       "\n",
       "    .dataframe thead th {\n",
       "        text-align: right;\n",
       "    }\n",
       "</style>\n",
       "<table border=\"1\" class=\"dataframe\">\n",
       "  <thead>\n",
       "    <tr style=\"text-align: right;\">\n",
       "      <th></th>\n",
       "      <th>Clusters</th>\n",
       "      <th>33b_cur</th>\n",
       "      <th>33b_orig_ord_amt</th>\n",
       "      <th>src_lon</th>\n",
       "      <th>src_lat</th>\n",
       "      <th>target_lat</th>\n",
       "      <th>target_lon</th>\n",
       "      <th>charge_dtls</th>\n",
       "      <th>charge_dtls_cur</th>\n",
       "      <th>charge_dtls_amt</th>\n",
       "      <th>src_lat_bin</th>\n",
       "      <th>target_lat_bin</th>\n",
       "      <th>src_lon_bin</th>\n",
       "      <th>target_lon_bin</th>\n",
       "    </tr>\n",
       "  </thead>\n",
       "  <tbody>\n",
       "    <tr>\n",
       "      <th>0</th>\n",
       "      <td>0</td>\n",
       "      <td>RUB</td>\n",
       "      <td>1544103.68</td>\n",
       "      <td>-89.383761</td>\n",
       "      <td>43.074761</td>\n",
       "      <td>34.146942</td>\n",
       "      <td>-118.247847</td>\n",
       "      <td>SHA</td>\n",
       "      <td>999</td>\n",
       "      <td>0.0</td>\n",
       "      <td>40-45</td>\n",
       "      <td>30-35</td>\n",
       "      <td>-90 -- -80</td>\n",
       "      <td>-120 -- -110</td>\n",
       "    </tr>\n",
       "    <tr>\n",
       "      <th>1</th>\n",
       "      <td>1</td>\n",
       "      <td>RUB</td>\n",
       "      <td>912070.95</td>\n",
       "      <td>-89.383761</td>\n",
       "      <td>43.074761</td>\n",
       "      <td>47.566422</td>\n",
       "      <td>-99.650882</td>\n",
       "      <td>BEN</td>\n",
       "      <td>RUB</td>\n",
       "      <td>0.0</td>\n",
       "      <td>40-45</td>\n",
       "      <td>45-50</td>\n",
       "      <td>-90 -- -80</td>\n",
       "      <td>-100 -- -90</td>\n",
       "    </tr>\n",
       "    <tr>\n",
       "      <th>2</th>\n",
       "      <td>0</td>\n",
       "      <td>RUB</td>\n",
       "      <td>21760302.59</td>\n",
       "      <td>-89.383761</td>\n",
       "      <td>43.074761</td>\n",
       "      <td>42.795605</td>\n",
       "      <td>-110.929451</td>\n",
       "      <td>SHA</td>\n",
       "      <td>999</td>\n",
       "      <td>0.0</td>\n",
       "      <td>40-45</td>\n",
       "      <td>40-45</td>\n",
       "      <td>-90 -- -80</td>\n",
       "      <td>-120 -- -110</td>\n",
       "    </tr>\n",
       "    <tr>\n",
       "      <th>3</th>\n",
       "      <td>0</td>\n",
       "      <td>RUB</td>\n",
       "      <td>878587.53</td>\n",
       "      <td>-89.383761</td>\n",
       "      <td>43.074761</td>\n",
       "      <td>35.815612</td>\n",
       "      <td>-101.910435</td>\n",
       "      <td>SHA</td>\n",
       "      <td>999</td>\n",
       "      <td>0.0</td>\n",
       "      <td>40-45</td>\n",
       "      <td>35-40</td>\n",
       "      <td>-90 -- -80</td>\n",
       "      <td>-110 -- -100</td>\n",
       "    </tr>\n",
       "    <tr>\n",
       "      <th>4</th>\n",
       "      <td>0</td>\n",
       "      <td>RUB</td>\n",
       "      <td>6696355.97</td>\n",
       "      <td>-89.383761</td>\n",
       "      <td>43.074761</td>\n",
       "      <td>27.547259</td>\n",
       "      <td>-81.811471</td>\n",
       "      <td>SHA</td>\n",
       "      <td>999</td>\n",
       "      <td>0.0</td>\n",
       "      <td>40-45</td>\n",
       "      <td>25-30</td>\n",
       "      <td>-90 -- -80</td>\n",
       "      <td>-90 -- -80</td>\n",
       "    </tr>\n",
       "  </tbody>\n",
       "</table>\n",
       "</div>"
      ],
      "text/plain": [
       "   Clusters 33b_cur  33b_orig_ord_amt    src_lon    src_lat  target_lat  \\\n",
       "0         0     RUB        1544103.68 -89.383761  43.074761   34.146942   \n",
       "1         1     RUB         912070.95 -89.383761  43.074761   47.566422   \n",
       "2         0     RUB       21760302.59 -89.383761  43.074761   42.795605   \n",
       "3         0     RUB         878587.53 -89.383761  43.074761   35.815612   \n",
       "4         0     RUB        6696355.97 -89.383761  43.074761   27.547259   \n",
       "\n",
       "   target_lon charge_dtls charge_dtls_cur  charge_dtls_amt src_lat_bin  \\\n",
       "0 -118.247847         SHA             999              0.0       40-45   \n",
       "1  -99.650882         BEN             RUB              0.0       40-45   \n",
       "2 -110.929451         SHA             999              0.0       40-45   \n",
       "3 -101.910435         SHA             999              0.0       40-45   \n",
       "4  -81.811471         SHA             999              0.0       40-45   \n",
       "\n",
       "  target_lat_bin src_lon_bin target_lon_bin  \n",
       "0          30-35  -90 -- -80   -120 -- -110  \n",
       "1          45-50  -90 -- -80    -100 -- -90  \n",
       "2          40-45  -90 -- -80   -120 -- -110  \n",
       "3          35-40  -90 -- -80   -110 -- -100  \n",
       "4          25-30  -90 -- -80     -90 -- -80  "
      ]
     },
     "execution_count": 74,
     "metadata": {},
     "output_type": "execute_result"
    }
   ],
   "source": [
    "data.head()"
   ]
  },
  {
   "cell_type": "code",
   "execution_count": 75,
   "metadata": {},
   "outputs": [
    {
     "data": {
      "text/plain": [
       "0    159141\n",
       "1     81539\n",
       "2     79282\n",
       "4     38236\n",
       "3     21328\n",
       "Name: Clusters, dtype: int64"
      ]
     },
     "execution_count": 75,
     "metadata": {},
     "output_type": "execute_result"
    }
   ],
   "source": [
    "data['Clusters'].value_counts()"
   ]
  },
  {
   "cell_type": "code",
   "execution_count": 76,
   "metadata": {},
   "outputs": [
    {
     "data": {
      "text/plain": [
       "6521.83"
      ]
     },
     "execution_count": 76,
     "metadata": {},
     "output_type": "execute_result"
    }
   ],
   "source": [
    "data[data['Clusters'] == 0]['33b_orig_ord_amt'].quantile(0.1)"
   ]
  },
  {
   "cell_type": "code",
   "execution_count": 77,
   "metadata": {},
   "outputs": [],
   "source": [
    "def quantile_values():\n",
    "    clusters = data['Clusters'].nunique()\n",
    "    for i in range(0,clusters):\n",
    "        print(f\"Cluster{i}: Centroid: {clusterCentroids.iloc[i]}\")\n",
    "        print(f\"Cluster{i}: Transfer amount lower limit--    {data[data['Clusters'] == i]['33b_orig_ord_amt'].quantile(0.1)}\")\n",
    "        print(f\"Cluster{i}: Transfer amount upper limit--    {data[data['Clusters'] == i]['33b_orig_ord_amt'].quantile(0.90)}\")\n",
    "        print(f\"Cluster{i}: Source latitude lower limit--    {data[data['Clusters'] == i]['src_lat'].quantile(0.1)}\")\n",
    "        print(f\"Cluster{i}: Source latitude upper limit--    {data[data['Clusters'] == i]['src_lat'].quantile(0.90)}\")\n",
    "        print(f\"Cluster{i}: Source longitude lower limit--   {data[data['Clusters'] == i]['src_lon'].quantile(0.1)}\")\n",
    "        print(f\"Cluster{i}: Source longitude upper limit--   {data[data['Clusters'] == i]['src_lon'].quantile(0.90)}\")\n",
    "        print(f\"Cluster{i}: Destination latitude lower limit--  {data[data['Clusters'] == i]['target_lat'].quantile(0.1)}\")\n",
    "        print(f\"Cluster{i}: Destination latitude upper limit--  {data[data['Clusters'] == i]['target_lat'].quantile(0.90)}\")\n",
    "        print(f\"Cluster{i}: Destination longitude lower limit-- {data[data['Clusters'] == i]['target_lon'].quantile(0.1)}\")\n",
    "        print(f\"Cluster{i}: Destination longitude upper limit-- {data[data['Clusters'] == i]['target_lon'].quantile(0.90)}\")\n",
    "        print(\"\")\n",
    "\n",
    "        "
   ]
  },
  {
   "cell_type": "code",
   "execution_count": 78,
   "metadata": {},
   "outputs": [
    {
     "name": "stdout",
     "output_type": "stream",
     "text": [
      "Cluster0: Centroid: 33b_cur                    RUB\n",
      "charge_dtls                SHA\n",
      "charge_dtls_cur            999\n",
      "src_lat_bin              40-45\n",
      "src_lon_bin         -90 -- -80\n",
      "target_lat_bin           40-45\n",
      "target_lon_bin     -100 -- -90\n",
      "Name: 0, dtype: object\n",
      "Cluster0: Transfer amount lower limit--    6521.83\n",
      "Cluster0: Transfer amount upper limit--    3120859.26\n",
      "Cluster0: Source latitude lower limit--    36.8975794\n",
      "Cluster0: Source latitude upper limit--    43.074760999999995\n",
      "Cluster0: Source longitude lower limit--   -95.657771\n",
      "Cluster0: Source longitude upper limit--   -81.36844090000001\n",
      "Cluster0: Destination latitude lower limit--  31.469344800000002\n",
      "Cluster0: Destination latitude upper limit--  44.9369054\n",
      "Cluster0: Destination longitude lower limit-- -112.71682390000001\n",
      "Cluster0: Destination longitude upper limit-- -73.70776213567353\n",
      "\n",
      "Cluster1: Centroid: 33b_cur                   RUB\n",
      "charge_dtls               BEN\n",
      "charge_dtls_cur           RUB\n",
      "src_lat_bin             40-45\n",
      "src_lon_bin        -90 -- -80\n",
      "target_lat_bin          35-40\n",
      "target_lon_bin     -90 -- -80\n",
      "Name: 1, dtype: object\n",
      "Cluster1: Transfer amount lower limit--    8300.48\n",
      "Cluster1: Transfer amount upper limit--    3224560.359999999\n",
      "Cluster1: Source latitude lower limit--    37.0833893\n",
      "Cluster1: Source latitude upper limit--    43.074760999999995\n",
      "Cluster1: Source longitude lower limit--   -95.55332039999999\n",
      "Cluster1: Source longitude upper limit--   -81.24404956000001\n",
      "Cluster1: Destination latitude lower limit--  30.632414899999997\n",
      "Cluster1: Destination latitude upper limit--  45.5373179\n",
      "Cluster1: Destination longitude lower limit-- -118.82843100000001\n",
      "Cluster1: Destination longitude upper limit-- -77.9663051\n",
      "\n",
      "Cluster2: Centroid: 33b_cur                   RUB\n",
      "charge_dtls               OUR\n",
      "charge_dtls_cur           999\n",
      "src_lat_bin             40-45\n",
      "src_lon_bin        -90 -- -80\n",
      "target_lat_bin          35-40\n",
      "target_lon_bin     -80 -- -70\n",
      "Name: 2, dtype: object\n",
      "Cluster2: Transfer amount lower limit--    8009.835\n",
      "Cluster2: Transfer amount upper limit--    3237009.1600000085\n",
      "Cluster2: Source latitude lower limit--    36.8455948\n",
      "Cluster2: Source latitude upper limit--    43.074760999999995\n",
      "Cluster2: Source longitude lower limit--   -95.713312\n",
      "Cluster2: Source longitude upper limit--   -81.36157170000001\n",
      "Cluster2: Destination latitude lower limit--  34.141941700000004\n",
      "Cluster2: Destination latitude upper limit--  43.65784602000001\n",
      "Cluster2: Destination longitude lower limit-- -118.7885967\n",
      "Cluster2: Destination longitude upper limit-- -72.16343986\n",
      "\n",
      "Cluster3: Centroid: 33b_cur                   GBP\n",
      "charge_dtls               OUR\n",
      "charge_dtls_cur           999\n",
      "src_lat_bin             40-45\n",
      "src_lon_bin        -90 -- -80\n",
      "target_lat_bin          30-35\n",
      "target_lon_bin     -90 -- -80\n",
      "Name: 3, dtype: object\n",
      "Cluster3: Transfer amount lower limit--    0.95\n",
      "Cluster3: Transfer amount upper limit--    1024705.9119999986\n",
      "Cluster3: Source latitude lower limit--    37.12092149\n",
      "Cluster3: Source latitude upper limit--    43.074760999999995\n",
      "Cluster3: Source longitude lower limit--   -95.46089045\n",
      "Cluster3: Source longitude upper limit--   -81.4220334\n",
      "Cluster3: Destination latitude lower limit--  30.5677527\n",
      "Cluster3: Destination latitude upper limit--  42.51196093\n",
      "Cluster3: Destination longitude lower limit-- -111.96370633649121\n",
      "Cluster3: Destination longitude upper limit-- -81.39149920000001\n",
      "\n",
      "Cluster4: Centroid: 33b_cur                   RUB\n",
      "charge_dtls               BEN\n",
      "charge_dtls_cur           RUB\n",
      "src_lat_bin             40-45\n",
      "src_lon_bin        -90 -- -80\n",
      "target_lat_bin          40-45\n",
      "target_lon_bin     -80 -- -70\n",
      "Name: 4, dtype: object\n",
      "Cluster4: Transfer amount lower limit--    9983.475\n",
      "Cluster4: Transfer amount upper limit--    3165680.6799999997\n",
      "Cluster4: Source latitude lower limit--    36.815393225\n",
      "Cluster4: Source latitude upper limit--    43.074760999999995\n",
      "Cluster4: Source longitude lower limit--   -95.78931779999999\n",
      "Cluster4: Source longitude upper limit--   -81.36093765000001\n",
      "Cluster4: Destination latitude lower limit--  40.3492744\n",
      "Cluster4: Destination latitude upper limit--  44.1522971\n",
      "Cluster4: Destination longitude lower limit-- -99.7439226\n",
      "Cluster4: Destination longitude upper limit-- -71.10616390000001\n",
      "\n"
     ]
    }
   ],
   "source": [
    "quantile_values()"
   ]
  },
  {
   "cell_type": "code",
   "execution_count": 79,
   "metadata": {},
   "outputs": [],
   "source": [
    "Rule_df = clusterCentroids.copy()"
   ]
  },
  {
   "cell_type": "code",
   "execution_count": 80,
   "metadata": {},
   "outputs": [],
   "source": [
    "Rule_df['33b_orig_ord_amt_10'] = np.nan"
   ]
  },
  {
   "cell_type": "code",
   "execution_count": 81,
   "metadata": {},
   "outputs": [],
   "source": [
    "Rule_df['33b_orig_ord_amt_90'] = np.nan"
   ]
  },
  {
   "cell_type": "code",
   "execution_count": 82,
   "metadata": {},
   "outputs": [],
   "source": [
    "Rule_df['src_lat_10'] = np.nan"
   ]
  },
  {
   "cell_type": "code",
   "execution_count": 83,
   "metadata": {},
   "outputs": [],
   "source": [
    "Rule_df['src_lat_90'] = np.nan"
   ]
  },
  {
   "cell_type": "code",
   "execution_count": 84,
   "metadata": {},
   "outputs": [],
   "source": [
    "Rule_df['src_lon_10'] = np.nan"
   ]
  },
  {
   "cell_type": "code",
   "execution_count": 85,
   "metadata": {},
   "outputs": [],
   "source": [
    "Rule_df['src_lon_90'] = np.nan"
   ]
  },
  {
   "cell_type": "code",
   "execution_count": 86,
   "metadata": {},
   "outputs": [],
   "source": [
    "Rule_df['target_lat_10'] = np.nan"
   ]
  },
  {
   "cell_type": "code",
   "execution_count": 87,
   "metadata": {},
   "outputs": [],
   "source": [
    "Rule_df['target_lat_90'] = np.nan"
   ]
  },
  {
   "cell_type": "code",
   "execution_count": 88,
   "metadata": {},
   "outputs": [],
   "source": [
    "Rule_df['target_lon_10'] = np.nan"
   ]
  },
  {
   "cell_type": "code",
   "execution_count": 89,
   "metadata": {},
   "outputs": [],
   "source": [
    "Rule_df['target_lon_90'] = np.nan"
   ]
  },
  {
   "cell_type": "code",
   "execution_count": 90,
   "metadata": {},
   "outputs": [],
   "source": [
    "clusters = data['Clusters'].nunique()\n",
    "for i in range(0,clusters):\n",
    "    Rule_df.iloc[i,7] = data[data['Clusters'] == i]['33b_orig_ord_amt'].quantile(0.1)\n",
    "    Rule_df.iloc[i,8] = data[data['Clusters'] == i]['33b_orig_ord_amt'].quantile(0.90)\n",
    "    Rule_df.iloc[i,9] = data[data['Clusters'] == i]['src_lat'].quantile(0.1)\n",
    "    Rule_df.iloc[i,10] = data[data['Clusters'] == i]['src_lat'].quantile(0.90)\n",
    "    Rule_df.iloc[i,11] = data[data['Clusters'] == i]['src_lon'].quantile(0.1)\n",
    "    Rule_df.iloc[i,12] = data[data['Clusters'] == i]['src_lon'].quantile(0.90)\n",
    "    Rule_df.iloc[i,13] = data[data['Clusters'] == i]['target_lat'].quantile(0.1)\n",
    "    Rule_df.iloc[i,14] = data[data['Clusters'] == i]['target_lat'].quantile(0.90)\n",
    "    Rule_df.iloc[i,15] = data[data['Clusters'] == i]['target_lon'].quantile(0.1)\n",
    "    Rule_df.iloc[i,16] = data[data['Clusters'] == i]['target_lon'].quantile(0.90)    "
   ]
  },
  {
   "cell_type": "code",
   "execution_count": 91,
   "metadata": {},
   "outputs": [
    {
     "data": {
      "text/html": [
       "<div>\n",
       "<style scoped>\n",
       "    .dataframe tbody tr th:only-of-type {\n",
       "        vertical-align: middle;\n",
       "    }\n",
       "\n",
       "    .dataframe tbody tr th {\n",
       "        vertical-align: top;\n",
       "    }\n",
       "\n",
       "    .dataframe thead th {\n",
       "        text-align: right;\n",
       "    }\n",
       "</style>\n",
       "<table border=\"1\" class=\"dataframe\">\n",
       "  <thead>\n",
       "    <tr style=\"text-align: right;\">\n",
       "      <th></th>\n",
       "      <th>Clusters</th>\n",
       "      <th>33b_cur</th>\n",
       "      <th>33b_orig_ord_amt</th>\n",
       "      <th>src_lon</th>\n",
       "      <th>src_lat</th>\n",
       "      <th>target_lat</th>\n",
       "      <th>target_lon</th>\n",
       "      <th>charge_dtls</th>\n",
       "      <th>charge_dtls_cur</th>\n",
       "      <th>charge_dtls_amt</th>\n",
       "      <th>src_lat_bin</th>\n",
       "      <th>target_lat_bin</th>\n",
       "      <th>src_lon_bin</th>\n",
       "      <th>target_lon_bin</th>\n",
       "    </tr>\n",
       "  </thead>\n",
       "  <tbody>\n",
       "    <tr>\n",
       "      <th>0</th>\n",
       "      <td>0</td>\n",
       "      <td>RUB</td>\n",
       "      <td>1544103.68</td>\n",
       "      <td>-89.383761</td>\n",
       "      <td>43.074761</td>\n",
       "      <td>34.146942</td>\n",
       "      <td>-118.247847</td>\n",
       "      <td>SHA</td>\n",
       "      <td>999</td>\n",
       "      <td>0.0</td>\n",
       "      <td>40-45</td>\n",
       "      <td>30-35</td>\n",
       "      <td>-90 -- -80</td>\n",
       "      <td>-120 -- -110</td>\n",
       "    </tr>\n",
       "    <tr>\n",
       "      <th>1</th>\n",
       "      <td>1</td>\n",
       "      <td>RUB</td>\n",
       "      <td>912070.95</td>\n",
       "      <td>-89.383761</td>\n",
       "      <td>43.074761</td>\n",
       "      <td>47.566422</td>\n",
       "      <td>-99.650882</td>\n",
       "      <td>BEN</td>\n",
       "      <td>RUB</td>\n",
       "      <td>0.0</td>\n",
       "      <td>40-45</td>\n",
       "      <td>45-50</td>\n",
       "      <td>-90 -- -80</td>\n",
       "      <td>-100 -- -90</td>\n",
       "    </tr>\n",
       "    <tr>\n",
       "      <th>2</th>\n",
       "      <td>0</td>\n",
       "      <td>RUB</td>\n",
       "      <td>21760302.59</td>\n",
       "      <td>-89.383761</td>\n",
       "      <td>43.074761</td>\n",
       "      <td>42.795605</td>\n",
       "      <td>-110.929451</td>\n",
       "      <td>SHA</td>\n",
       "      <td>999</td>\n",
       "      <td>0.0</td>\n",
       "      <td>40-45</td>\n",
       "      <td>40-45</td>\n",
       "      <td>-90 -- -80</td>\n",
       "      <td>-120 -- -110</td>\n",
       "    </tr>\n",
       "  </tbody>\n",
       "</table>\n",
       "</div>"
      ],
      "text/plain": [
       "   Clusters 33b_cur  33b_orig_ord_amt    src_lon    src_lat  target_lat  \\\n",
       "0         0     RUB        1544103.68 -89.383761  43.074761   34.146942   \n",
       "1         1     RUB         912070.95 -89.383761  43.074761   47.566422   \n",
       "2         0     RUB       21760302.59 -89.383761  43.074761   42.795605   \n",
       "\n",
       "   target_lon charge_dtls charge_dtls_cur  charge_dtls_amt src_lat_bin  \\\n",
       "0 -118.247847         SHA             999              0.0       40-45   \n",
       "1  -99.650882         BEN             RUB              0.0       40-45   \n",
       "2 -110.929451         SHA             999              0.0       40-45   \n",
       "\n",
       "  target_lat_bin src_lon_bin target_lon_bin  \n",
       "0          30-35  -90 -- -80   -120 -- -110  \n",
       "1          45-50  -90 -- -80    -100 -- -90  \n",
       "2          40-45  -90 -- -80   -120 -- -110  "
      ]
     },
     "execution_count": 91,
     "metadata": {},
     "output_type": "execute_result"
    }
   ],
   "source": [
    "data.head(3)"
   ]
  },
  {
   "cell_type": "code",
   "execution_count": 94,
   "metadata": {},
   "outputs": [
    {
     "data": {
      "text/html": [
       "<div>\n",
       "<style scoped>\n",
       "    .dataframe tbody tr th:only-of-type {\n",
       "        vertical-align: middle;\n",
       "    }\n",
       "\n",
       "    .dataframe tbody tr th {\n",
       "        vertical-align: top;\n",
       "    }\n",
       "\n",
       "    .dataframe thead th {\n",
       "        text-align: right;\n",
       "    }\n",
       "</style>\n",
       "<table border=\"1\" class=\"dataframe\">\n",
       "  <thead>\n",
       "    <tr style=\"text-align: right;\">\n",
       "      <th></th>\n",
       "      <th>33b_cur</th>\n",
       "      <th>charge_dtls</th>\n",
       "      <th>charge_dtls_cur</th>\n",
       "      <th>src_lat_bin</th>\n",
       "      <th>src_lon_bin</th>\n",
       "      <th>target_lat_bin</th>\n",
       "      <th>target_lon_bin</th>\n",
       "      <th>33b_orig_ord_amt_10</th>\n",
       "      <th>33b_orig_ord_amt_90</th>\n",
       "      <th>src_lat_10</th>\n",
       "      <th>src_lat_90</th>\n",
       "      <th>src_lon_10</th>\n",
       "      <th>src_lon_90</th>\n",
       "      <th>target_lat_10</th>\n",
       "      <th>target_lat_90</th>\n",
       "      <th>target_lon_10</th>\n",
       "      <th>target_lon_90</th>\n",
       "    </tr>\n",
       "  </thead>\n",
       "  <tbody>\n",
       "    <tr>\n",
       "      <th>0</th>\n",
       "      <td>RUB</td>\n",
       "      <td>SHA</td>\n",
       "      <td>999</td>\n",
       "      <td>40-45</td>\n",
       "      <td>-90 -- -80</td>\n",
       "      <td>40-45</td>\n",
       "      <td>-100 -- -90</td>\n",
       "      <td>6521.830</td>\n",
       "      <td>3120859.260</td>\n",
       "      <td>36.897579</td>\n",
       "      <td>43.074761</td>\n",
       "      <td>-95.657771</td>\n",
       "      <td>-81.368441</td>\n",
       "      <td>31.469345</td>\n",
       "      <td>44.936905</td>\n",
       "      <td>-112.716824</td>\n",
       "      <td>-73.707762</td>\n",
       "    </tr>\n",
       "    <tr>\n",
       "      <th>1</th>\n",
       "      <td>RUB</td>\n",
       "      <td>BEN</td>\n",
       "      <td>RUB</td>\n",
       "      <td>40-45</td>\n",
       "      <td>-90 -- -80</td>\n",
       "      <td>35-40</td>\n",
       "      <td>-90 -- -80</td>\n",
       "      <td>8300.480</td>\n",
       "      <td>3224560.360</td>\n",
       "      <td>37.083389</td>\n",
       "      <td>43.074761</td>\n",
       "      <td>-95.553320</td>\n",
       "      <td>-81.244050</td>\n",
       "      <td>30.632415</td>\n",
       "      <td>45.537318</td>\n",
       "      <td>-118.828431</td>\n",
       "      <td>-77.966305</td>\n",
       "    </tr>\n",
       "    <tr>\n",
       "      <th>2</th>\n",
       "      <td>RUB</td>\n",
       "      <td>OUR</td>\n",
       "      <td>999</td>\n",
       "      <td>40-45</td>\n",
       "      <td>-90 -- -80</td>\n",
       "      <td>35-40</td>\n",
       "      <td>-80 -- -70</td>\n",
       "      <td>8009.835</td>\n",
       "      <td>3237009.160</td>\n",
       "      <td>36.845595</td>\n",
       "      <td>43.074761</td>\n",
       "      <td>-95.713312</td>\n",
       "      <td>-81.361572</td>\n",
       "      <td>34.141942</td>\n",
       "      <td>43.657846</td>\n",
       "      <td>-118.788597</td>\n",
       "      <td>-72.163440</td>\n",
       "    </tr>\n",
       "    <tr>\n",
       "      <th>3</th>\n",
       "      <td>GBP</td>\n",
       "      <td>OUR</td>\n",
       "      <td>999</td>\n",
       "      <td>40-45</td>\n",
       "      <td>-90 -- -80</td>\n",
       "      <td>30-35</td>\n",
       "      <td>-90 -- -80</td>\n",
       "      <td>0.950</td>\n",
       "      <td>1024705.912</td>\n",
       "      <td>37.120921</td>\n",
       "      <td>43.074761</td>\n",
       "      <td>-95.460890</td>\n",
       "      <td>-81.422033</td>\n",
       "      <td>30.567753</td>\n",
       "      <td>42.511961</td>\n",
       "      <td>-111.963706</td>\n",
       "      <td>-81.391499</td>\n",
       "    </tr>\n",
       "    <tr>\n",
       "      <th>4</th>\n",
       "      <td>RUB</td>\n",
       "      <td>BEN</td>\n",
       "      <td>RUB</td>\n",
       "      <td>40-45</td>\n",
       "      <td>-90 -- -80</td>\n",
       "      <td>40-45</td>\n",
       "      <td>-80 -- -70</td>\n",
       "      <td>9983.475</td>\n",
       "      <td>3165680.680</td>\n",
       "      <td>36.815393</td>\n",
       "      <td>43.074761</td>\n",
       "      <td>-95.789318</td>\n",
       "      <td>-81.360938</td>\n",
       "      <td>40.349274</td>\n",
       "      <td>44.152297</td>\n",
       "      <td>-99.743923</td>\n",
       "      <td>-71.106164</td>\n",
       "    </tr>\n",
       "  </tbody>\n",
       "</table>\n",
       "</div>"
      ],
      "text/plain": [
       "  33b_cur charge_dtls charge_dtls_cur src_lat_bin src_lon_bin target_lat_bin  \\\n",
       "0     RUB         SHA             999       40-45  -90 -- -80          40-45   \n",
       "1     RUB         BEN             RUB       40-45  -90 -- -80          35-40   \n",
       "2     RUB         OUR             999       40-45  -90 -- -80          35-40   \n",
       "3     GBP         OUR             999       40-45  -90 -- -80          30-35   \n",
       "4     RUB         BEN             RUB       40-45  -90 -- -80          40-45   \n",
       "\n",
       "  target_lon_bin  33b_orig_ord_amt_10  33b_orig_ord_amt_90  src_lat_10  \\\n",
       "0    -100 -- -90             6521.830          3120859.260   36.897579   \n",
       "1     -90 -- -80             8300.480          3224560.360   37.083389   \n",
       "2     -80 -- -70             8009.835          3237009.160   36.845595   \n",
       "3     -90 -- -80                0.950          1024705.912   37.120921   \n",
       "4     -80 -- -70             9983.475          3165680.680   36.815393   \n",
       "\n",
       "   src_lat_90  src_lon_10  src_lon_90  target_lat_10  target_lat_90  \\\n",
       "0   43.074761  -95.657771  -81.368441      31.469345      44.936905   \n",
       "1   43.074761  -95.553320  -81.244050      30.632415      45.537318   \n",
       "2   43.074761  -95.713312  -81.361572      34.141942      43.657846   \n",
       "3   43.074761  -95.460890  -81.422033      30.567753      42.511961   \n",
       "4   43.074761  -95.789318  -81.360938      40.349274      44.152297   \n",
       "\n",
       "   target_lon_10  target_lon_90  \n",
       "0    -112.716824     -73.707762  \n",
       "1    -118.828431     -77.966305  \n",
       "2    -118.788597     -72.163440  \n",
       "3    -111.963706     -81.391499  \n",
       "4     -99.743923     -71.106164  "
      ]
     },
     "execution_count": 94,
     "metadata": {},
     "output_type": "execute_result"
    }
   ],
   "source": [
    "Rule_df"
   ]
  },
  {
   "cell_type": "code",
   "execution_count": 95,
   "metadata": {},
   "outputs": [],
   "source": [
    "Rule_df.to_csv('../workspace/data/rules_dataframe.csv', index=False)"
   ]
  },
  {
   "cell_type": "code",
   "execution_count": 139,
   "metadata": {},
   "outputs": [],
   "source": [
    "def bins(df):\n",
    "    df['src_lat_bin'] = pd.cut(df['src_lat'], [-71, -65, -60, -55, -50, -45, -40, -35, -30, -25, -20, -15, -10, -5, 0, 5, 10, 15, 20, 25, 30, 35, 40, 45, 50, 55, 60, 65, 72], \n",
    "                              labels=['-71 -- -65', '-65 -- -60', '-60 -- -55', '-55 -- -50', '-50 -- -45', '-45 -- -40', '-40 -- -35', '-35 -- -30', '-30 -- -25', '-25 -- -20', '-20 -- -15', '-15 -- -10', '-10 -- -5', '-5 -- 0', '0 - 5', '5-10', '10-15', '15-20', '20-25', '25-30', '30-35', '35-40', '40-45', '45-50', '50-55', '55-60', '60-65', '65-72'])\n",
    "    \n",
    "    df['src_lon_bin'] = pd.cut(df['src_lon'], [-171, -160, -150, -140, -130, -120, -110, -100, -90, -80, -70, -60, -50, -40, -30, -20, -10, 0, 10, 20, 30, 40, 50, 60, 70, 80, 90, 100, 110, 120, 130, 140, 154], \n",
    "                              labels=['-171 -- -160', '-160 -- -150', '-150 -- -140', '-140 -- -130', '-130 -- -120', '-120 -- -110', '-110 -- -100', '-100 -- -90', '-90 -- -80', '-80 -- -70', '-70 -- -60', '-60 -- -50', '-50 -- -40', '-40 -- -30', '-30 -- -20', '-20 -- -10', '-10-0', '0-10', '10-20', '20-30', '30-40', '40-50', '50-60', '60-70', '70-80', '80-90', '90-100', '100-110', '110-120', '120-130', '130-140', '140-154'])\n",
    "    \n",
    "    df['target_lat_bin'] = pd.cut(df['target_lat'], [-71, -65, -60, -55, -50, -45, -40, -35, -30, -25, -20, -15, -10, -5, 0, 5, 10, 15, 20, 25, 30, 35, 40, 45, 50, 55, 60, 65, 72], \n",
    "                              labels=['-71 -- -65', '-65 -- -60', '-60 -- -55', '-55 -- -50', '-50 -- -45', '-45 -- -40', '-40 -- -35', '-35 -- -30', '-30 -- -25', '-25 -- -20', '-20 -- -15', '-15 -- -10', '-10 -- -5', '-5 -- 0', '0 - 5', '5-10', '10-15', '15-20', '20-25', '25-30', '30-35', '35-40', '40-45', '45-50', '50-55', '55-60', '60-65', '65-72'])\n",
    "    \n",
    "    df['target_lon_bin'] = pd.cut(df['target_lon'], [-171, -160, -150, -140, -130, -120, -110, -100, -90, -80, -70, -60, -50, -40, -30, -20, -10, 0, 10, 20, 30, 40, 50, 60, 70, 80, 90, 100, 110, 120, 130, 140, 154], \n",
    "                              labels=['-171 -- -160', '-160 -- -150', '-150 -- -140', '-140 -- -130', '-130 -- -120', '-120 -- -110', '-110 -- -100', '-100 -- -90', '-90 -- -80', '-80 -- -70', '-70 -- -60', '-60 -- -50', '-50 -- -40', '-40 -- -30', '-30 -- -20', '-20 -- -10', '-10-0', '0-10', '10-20', '20-30', '30-40', '40-50', '50-60', '60-70', '70-80', '80-90', '90-100', '100-110', '110-120', '120-130', '130-140', '140-154'])\n",
    "    \n",
    "    return df\n",
    "\n"
   ]
  },
  {
   "cell_type": "code",
   "execution_count": 140,
   "metadata": {},
   "outputs": [],
   "source": [
    "def apply_rules(df):\n",
    "    df2 = pd.DataFrame(data=None, columns=df.columns)\n",
    "    for _,row in df.iterrows():\n",
    "        score=np.zeros(5, dtype=int)\n",
    "        for i in range(0,5):\n",
    "            if row['33b_cur'] == Rule_df.iloc[i,0]:\n",
    "                score[i]+=1\n",
    "            if row['charge_dtls'] == Rule_df.iloc[i,1]:\n",
    "                score[i]+=1\n",
    "            if row['charge_dtls_cur'] == Rule_df.iloc[i,2]:\n",
    "                score[i]+=1\n",
    "            if row['src_lat_bin'] == Rule_df.iloc[i,3]:\n",
    "                score[i]+=1\n",
    "            if row['src_lon_bin'] == Rule_df.iloc[i,4]:\n",
    "                score[i]+=1\n",
    "            if row['target_lat_bin'] == Rule_df.iloc[i,5]:\n",
    "                score[i]+=1\n",
    "            if row['target_lon_bin'] == Rule_df.iloc[i,6]:\n",
    "                score[i]+=1\n",
    "        \n",
    "        cluster = score.argmax()\n",
    "        \n",
    "        if row['33b_orig_ord_amt'] >= Rule_df.iloc[cluster, 7] and row['33b_orig_ord_amt'] <= Rule_df.iloc[cluster, 8] \\\n",
    "        and row['src_lat'] >= Rule_df.iloc[cluster, 9] and row['src_lat'] <= Rule_df.iloc[cluster, 10] \\\n",
    "        and row['src_lon'] >= Rule_df.iloc[cluster, 11] and row['src_lon'] <= Rule_df.iloc[cluster, 12] \\\n",
    "        and row['target_lat'] >= Rule_df.iloc[cluster, 13] and row['target_lat'] <= Rule_df.iloc[cluster, 14] \\\n",
    "        and row['target_lon'] >= Rule_df.iloc[cluster, 15] and row['target_lon'] <= Rule_df.iloc[cluster, 16]:\n",
    "            \n",
    "            df2 = df2.append(row, ignore_index = True)\n",
    "            \n",
    "    \n",
    "    return df2\n",
    "            \n",
    "             \n",
    "df2 = apply_rules(temp)     "
   ]
  },
  {
   "cell_type": "code",
   "execution_count": 141,
   "metadata": {},
   "outputs": [
    {
     "data": {
      "text/html": [
       "<div>\n",
       "<style scoped>\n",
       "    .dataframe tbody tr th:only-of-type {\n",
       "        vertical-align: middle;\n",
       "    }\n",
       "\n",
       "    .dataframe tbody tr th {\n",
       "        vertical-align: top;\n",
       "    }\n",
       "\n",
       "    .dataframe thead th {\n",
       "        text-align: right;\n",
       "    }\n",
       "</style>\n",
       "<table border=\"1\" class=\"dataframe\">\n",
       "  <thead>\n",
       "    <tr style=\"text-align: right;\">\n",
       "      <th></th>\n",
       "      <th>Clusters</th>\n",
       "      <th>33b_cur</th>\n",
       "      <th>33b_orig_ord_amt</th>\n",
       "      <th>src_lon</th>\n",
       "      <th>src_lat</th>\n",
       "      <th>target_lat</th>\n",
       "      <th>target_lon</th>\n",
       "      <th>charge_dtls</th>\n",
       "      <th>charge_dtls_cur</th>\n",
       "      <th>charge_dtls_amt</th>\n",
       "      <th>src_lat_bin</th>\n",
       "      <th>target_lat_bin</th>\n",
       "      <th>src_lon_bin</th>\n",
       "      <th>target_lon_bin</th>\n",
       "    </tr>\n",
       "  </thead>\n",
       "  <tbody>\n",
       "    <tr>\n",
       "      <th>0</th>\n",
       "      <td>0</td>\n",
       "      <td>RUB</td>\n",
       "      <td>878587.53</td>\n",
       "      <td>-89.383761</td>\n",
       "      <td>43.074761</td>\n",
       "      <td>35.815612</td>\n",
       "      <td>-101.910435</td>\n",
       "      <td>SHA</td>\n",
       "      <td>999</td>\n",
       "      <td>0.0</td>\n",
       "      <td>40-45</td>\n",
       "      <td>35-40</td>\n",
       "      <td>-90 -- -80</td>\n",
       "      <td>-110 -- -100</td>\n",
       "    </tr>\n",
       "    <tr>\n",
       "      <th>1</th>\n",
       "      <td>0</td>\n",
       "      <td>RUB</td>\n",
       "      <td>251845.78</td>\n",
       "      <td>-89.383761</td>\n",
       "      <td>43.074761</td>\n",
       "      <td>41.238102</td>\n",
       "      <td>-85.853054</td>\n",
       "      <td>SHA</td>\n",
       "      <td>999</td>\n",
       "      <td>0.0</td>\n",
       "      <td>40-45</td>\n",
       "      <td>40-45</td>\n",
       "      <td>-90 -- -80</td>\n",
       "      <td>-90 -- -80</td>\n",
       "    </tr>\n",
       "    <tr>\n",
       "      <th>2</th>\n",
       "      <td>0</td>\n",
       "      <td>RUB</td>\n",
       "      <td>772391.88</td>\n",
       "      <td>-89.383761</td>\n",
       "      <td>43.074761</td>\n",
       "      <td>36.865050</td>\n",
       "      <td>-87.835295</td>\n",
       "      <td>SHA</td>\n",
       "      <td>999</td>\n",
       "      <td>0.0</td>\n",
       "      <td>40-45</td>\n",
       "      <td>35-40</td>\n",
       "      <td>-90 -- -80</td>\n",
       "      <td>-90 -- -80</td>\n",
       "    </tr>\n",
       "    <tr>\n",
       "      <th>3</th>\n",
       "      <td>0</td>\n",
       "      <td>RUB</td>\n",
       "      <td>274142.51</td>\n",
       "      <td>-89.383761</td>\n",
       "      <td>43.074761</td>\n",
       "      <td>38.273120</td>\n",
       "      <td>-98.582187</td>\n",
       "      <td>SHA</td>\n",
       "      <td>999</td>\n",
       "      <td>0.0</td>\n",
       "      <td>40-45</td>\n",
       "      <td>35-40</td>\n",
       "      <td>-90 -- -80</td>\n",
       "      <td>-100 -- -90</td>\n",
       "    </tr>\n",
       "    <tr>\n",
       "      <th>4</th>\n",
       "      <td>0</td>\n",
       "      <td>RUB</td>\n",
       "      <td>93648.45</td>\n",
       "      <td>-89.383761</td>\n",
       "      <td>43.074761</td>\n",
       "      <td>43.080545</td>\n",
       "      <td>-96.773655</td>\n",
       "      <td>SHA</td>\n",
       "      <td>999</td>\n",
       "      <td>0.0</td>\n",
       "      <td>40-45</td>\n",
       "      <td>40-45</td>\n",
       "      <td>-90 -- -80</td>\n",
       "      <td>-100 -- -90</td>\n",
       "    </tr>\n",
       "    <tr>\n",
       "      <th>...</th>\n",
       "      <td>...</td>\n",
       "      <td>...</td>\n",
       "      <td>...</td>\n",
       "      <td>...</td>\n",
       "      <td>...</td>\n",
       "      <td>...</td>\n",
       "      <td>...</td>\n",
       "      <td>...</td>\n",
       "      <td>...</td>\n",
       "      <td>...</td>\n",
       "      <td>...</td>\n",
       "      <td>...</td>\n",
       "      <td>...</td>\n",
       "      <td>...</td>\n",
       "    </tr>\n",
       "    <tr>\n",
       "      <th>418</th>\n",
       "      <td>1</td>\n",
       "      <td>RUB</td>\n",
       "      <td>568693.51</td>\n",
       "      <td>-89.383761</td>\n",
       "      <td>43.074761</td>\n",
       "      <td>35.102576</td>\n",
       "      <td>-84.662436</td>\n",
       "      <td>BEN</td>\n",
       "      <td>RUB</td>\n",
       "      <td>0.0</td>\n",
       "      <td>40-45</td>\n",
       "      <td>35-40</td>\n",
       "      <td>-90 -- -80</td>\n",
       "      <td>-90 -- -80</td>\n",
       "    </tr>\n",
       "    <tr>\n",
       "      <th>419</th>\n",
       "      <td>0</td>\n",
       "      <td>RUB</td>\n",
       "      <td>1519085.25</td>\n",
       "      <td>-89.383761</td>\n",
       "      <td>43.074761</td>\n",
       "      <td>40.199300</td>\n",
       "      <td>-93.114099</td>\n",
       "      <td>SHA</td>\n",
       "      <td>999</td>\n",
       "      <td>0.0</td>\n",
       "      <td>40-45</td>\n",
       "      <td>40-45</td>\n",
       "      <td>-90 -- -80</td>\n",
       "      <td>-100 -- -90</td>\n",
       "    </tr>\n",
       "    <tr>\n",
       "      <th>420</th>\n",
       "      <td>4</td>\n",
       "      <td>RUB</td>\n",
       "      <td>135899.68</td>\n",
       "      <td>-89.383761</td>\n",
       "      <td>43.074761</td>\n",
       "      <td>42.000858</td>\n",
       "      <td>-92.198521</td>\n",
       "      <td>BEN</td>\n",
       "      <td>RUB</td>\n",
       "      <td>0.0</td>\n",
       "      <td>40-45</td>\n",
       "      <td>40-45</td>\n",
       "      <td>-90 -- -80</td>\n",
       "      <td>-100 -- -90</td>\n",
       "    </tr>\n",
       "    <tr>\n",
       "      <th>421</th>\n",
       "      <td>0</td>\n",
       "      <td>RUB</td>\n",
       "      <td>585397.98</td>\n",
       "      <td>-89.383761</td>\n",
       "      <td>43.074761</td>\n",
       "      <td>31.869631</td>\n",
       "      <td>-82.594303</td>\n",
       "      <td>SHA</td>\n",
       "      <td>999</td>\n",
       "      <td>0.0</td>\n",
       "      <td>40-45</td>\n",
       "      <td>30-35</td>\n",
       "      <td>-90 -- -80</td>\n",
       "      <td>-90 -- -80</td>\n",
       "    </tr>\n",
       "    <tr>\n",
       "      <th>422</th>\n",
       "      <td>1</td>\n",
       "      <td>RUB</td>\n",
       "      <td>165528.89</td>\n",
       "      <td>-89.383761</td>\n",
       "      <td>43.074761</td>\n",
       "      <td>36.237644</td>\n",
       "      <td>-79.986291</td>\n",
       "      <td>BEN</td>\n",
       "      <td>RUB</td>\n",
       "      <td>0.0</td>\n",
       "      <td>40-45</td>\n",
       "      <td>35-40</td>\n",
       "      <td>-90 -- -80</td>\n",
       "      <td>-80 -- -70</td>\n",
       "    </tr>\n",
       "  </tbody>\n",
       "</table>\n",
       "<p>423 rows × 14 columns</p>\n",
       "</div>"
      ],
      "text/plain": [
       "    Clusters 33b_cur  33b_orig_ord_amt    src_lon    src_lat  target_lat  \\\n",
       "0          0     RUB         878587.53 -89.383761  43.074761   35.815612   \n",
       "1          0     RUB         251845.78 -89.383761  43.074761   41.238102   \n",
       "2          0     RUB         772391.88 -89.383761  43.074761   36.865050   \n",
       "3          0     RUB         274142.51 -89.383761  43.074761   38.273120   \n",
       "4          0     RUB          93648.45 -89.383761  43.074761   43.080545   \n",
       "..       ...     ...               ...        ...        ...         ...   \n",
       "418        1     RUB         568693.51 -89.383761  43.074761   35.102576   \n",
       "419        0     RUB        1519085.25 -89.383761  43.074761   40.199300   \n",
       "420        4     RUB         135899.68 -89.383761  43.074761   42.000858   \n",
       "421        0     RUB         585397.98 -89.383761  43.074761   31.869631   \n",
       "422        1     RUB         165528.89 -89.383761  43.074761   36.237644   \n",
       "\n",
       "     target_lon charge_dtls charge_dtls_cur  charge_dtls_amt src_lat_bin  \\\n",
       "0   -101.910435         SHA             999              0.0       40-45   \n",
       "1    -85.853054         SHA             999              0.0       40-45   \n",
       "2    -87.835295         SHA             999              0.0       40-45   \n",
       "3    -98.582187         SHA             999              0.0       40-45   \n",
       "4    -96.773655         SHA             999              0.0       40-45   \n",
       "..          ...         ...             ...              ...         ...   \n",
       "418  -84.662436         BEN             RUB              0.0       40-45   \n",
       "419  -93.114099         SHA             999              0.0       40-45   \n",
       "420  -92.198521         BEN             RUB              0.0       40-45   \n",
       "421  -82.594303         SHA             999              0.0       40-45   \n",
       "422  -79.986291         BEN             RUB              0.0       40-45   \n",
       "\n",
       "    target_lat_bin src_lon_bin target_lon_bin  \n",
       "0            35-40  -90 -- -80   -110 -- -100  \n",
       "1            40-45  -90 -- -80     -90 -- -80  \n",
       "2            35-40  -90 -- -80     -90 -- -80  \n",
       "3            35-40  -90 -- -80    -100 -- -90  \n",
       "4            40-45  -90 -- -80    -100 -- -90  \n",
       "..             ...         ...            ...  \n",
       "418          35-40  -90 -- -80     -90 -- -80  \n",
       "419          40-45  -90 -- -80    -100 -- -90  \n",
       "420          40-45  -90 -- -80    -100 -- -90  \n",
       "421          30-35  -90 -- -80     -90 -- -80  \n",
       "422          35-40  -90 -- -80     -80 -- -70  \n",
       "\n",
       "[423 rows x 14 columns]"
      ]
     },
     "execution_count": 141,
     "metadata": {},
     "output_type": "execute_result"
    }
   ],
   "source": [
    "df2"
   ]
  },
  {
   "cell_type": "code",
   "execution_count": null,
   "metadata": {},
   "outputs": [],
   "source": []
  }
 ],
 "metadata": {
  "kernelspec": {
   "display_name": "Python 3",
   "language": "python",
   "name": "python3"
  },
  "language_info": {
   "codemirror_mode": {
    "name": "ipython",
    "version": 3
   },
   "file_extension": ".py",
   "mimetype": "text/x-python",
   "name": "python",
   "nbconvert_exporter": "python",
   "pygments_lexer": "ipython3",
   "version": "3.7.6"
  }
 },
 "nbformat": 4,
 "nbformat_minor": 4
}
